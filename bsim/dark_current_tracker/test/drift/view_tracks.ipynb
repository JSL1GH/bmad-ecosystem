{
 "cells": [
  {
   "cell_type": "code",
   "execution_count": null,
   "id": "a1122b85",
   "metadata": {},
   "outputs": [],
   "source": [
    "%pylab --no-import-all inline\n",
    "%config InlineBackend.figure_format = 'retina'"
   ]
  },
  {
   "cell_type": "code",
   "execution_count": null,
   "id": "2073043e",
   "metadata": {},
   "outputs": [],
   "source": [
    "fname = 'ReferenceParticles.out'\n",
    "rdat = np.loadtxt(fname, skiprows=3)\n",
    "dat = {}\n",
    "header = open(fname).readline().split()\n",
    "for i, k in enumerate(header):\n",
    "    dat[k] = rdat[:,i]\n",
    "dat.keys()"
   ]
  },
  {
   "cell_type": "code",
   "execution_count": null,
   "id": "ff7c5b97",
   "metadata": {},
   "outputs": [],
   "source": [
    "rdat.shape"
   ]
  },
  {
   "cell_type": "code",
   "execution_count": null,
   "id": "98b7f803",
   "metadata": {},
   "outputs": [],
   "source": [
    "plt.plot(dat['z'], dat['x'])"
   ]
  }
 ],
 "metadata": {
  "kernelspec": {
   "display_name": "Python 3",
   "language": "python",
   "name": "python3"
  },
  "language_info": {
   "codemirror_mode": {
    "name": "ipython",
    "version": 3
   },
   "file_extension": ".py",
   "mimetype": "text/x-python",
   "name": "python",
   "nbconvert_exporter": "python",
   "pygments_lexer": "ipython3",
   "version": "3.9.2"
  }
 },
 "nbformat": 4,
 "nbformat_minor": 5
}
