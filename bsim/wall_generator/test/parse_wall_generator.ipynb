{
 "cells": [
  {
   "cell_type": "markdown",
   "id": "9d5cf747-cd38-4b12-a4e1-96d0f65f3fc0",
   "metadata": {},
   "source": [
    "# wall_generator output parsing"
   ]
  },
  {
   "cell_type": "code",
   "execution_count": 1,
   "id": "4bf56f49-804c-4726-868b-2d49c2db5466",
   "metadata": {},
   "outputs": [],
   "source": [
    "import numpy as np\n",
    "import matplotlib.pyplot as plt"
   ]
  },
  {
   "cell_type": "code",
   "execution_count": 2,
   "id": "da90624f-c6de-45cc-b546-4f82b3beac4c",
   "metadata": {},
   "outputs": [
    {
     "name": "stdout",
     "output_type": "stream",
     "text": [
      " \n",
      "                          __   ___       ___  __       ___  __   __  \n",
      " |  |  /\\  |    |        / _` |__  |\\ | |__  |__)  /\\   |  /  \\ |__) \n",
      " |/\\| /~~\\ |___ |___ ___ \\__> |___ | \\| |___ |  \\ /~~\\  |  \\__/ |  \\ \n",
      " \n",
      " Please provide a lattice file. Format:\n",
      " wall_generator <lattice>\n",
      "   Example: wall_generator lat.bmad\n",
      " wall_generator <lattice> <n_angles> <ds>\n",
      "   Example: wall_generator lat.bmad 8\n"
     ]
    }
   ],
   "source": [
    "# Usage\n",
    "!wall_generator"
   ]
  },
  {
   "cell_type": "code",
   "execution_count": 3,
   "id": "525f2fd6-ca88-4501-abf7-a277684c9b00",
   "metadata": {},
   "outputs": [
    {
     "name": "stdout",
     "output_type": "stream",
     "text": [
      " \n",
      "                          __   ___       ___  __       ___  __   __  \n",
      " |  |  /\\  |    |        / _` |__  |\\ | |__  |__)  /\\   |  /  \\ |__) \n",
      " |/\\| /~~\\ |___ |___ ___ \\__> |___ | \\| |___ |  \\ /~~\\  |  \\__/ |  \\ \n",
      " \n",
      " Creating wall for lattice file: lat.bmad                                                                                            \n",
      " Using number of angles:            2\n",
      "[INFO] bmad_parser:\n",
      "    Parsing lattice file(s). This might take a minute or so...\n",
      "[INFO] bmad_parser:\n",
      "    Found in file: \"NO_DIGESTED\". No digested file will be created\n",
      "[MESSAGE | 2021-AUG-26 13:05:29] bmad_parser:\n",
      "    Lattice parse time(min): 0.00\n",
      " Written: wall.out\n"
     ]
    }
   ],
   "source": [
    "# Run\n",
    "!wall_generator lat.bmad"
   ]
  },
  {
   "cell_type": "code",
   "execution_count": 4,
   "id": "4bd5fc8c-b14b-4ec0-abfb-6174182e1ecd",
   "metadata": {},
   "outputs": [],
   "source": [
    "FILE = 'wall.out'"
   ]
  },
  {
   "cell_type": "code",
   "execution_count": 5,
   "id": "0ddaba90-64ef-401a-bf73-d9f8e4113537",
   "metadata": {},
   "outputs": [
    {
     "data": {
      "text/plain": [
       "(['x',\n",
       "  'normal_x',\n",
       "  'y',\n",
       "  'normal_y',\n",
       "  'z',\n",
       "  'normal_z',\n",
       "  'ix_ele',\n",
       "  'angle_index',\n",
       "  's'],\n",
       " ['m', '1', 'm', '1', 'm', '1', '1', '1', 'm'])"
      ]
     },
     "execution_count": 5,
     "metadata": {},
     "output_type": "execute_result"
    }
   ],
   "source": [
    "# Get the header\n",
    "with open(FILE) as f:\n",
    "    header = f.readline().split()[1:]\n",
    "    units = f.readline().split()[1:]\n",
    "header, units"
   ]
  },
  {
   "cell_type": "code",
   "execution_count": 6,
   "id": "0fe9fc33-3162-4f55-91a3-39220fef4497",
   "metadata": {},
   "outputs": [
    {
     "data": {
      "text/plain": [
       "'angle_index'"
      ]
     },
     "execution_count": 6,
     "metadata": {},
     "output_type": "execute_result"
    }
   ],
   "source": [
    "# This identifies which angle was used. When angle == 2, this is the +x and -x wall contours. \n",
    "header[7]"
   ]
  },
  {
   "cell_type": "code",
   "execution_count": 7,
   "id": "a3fa458f-7860-4577-965f-2a4938c0ea1b",
   "metadata": {},
   "outputs": [],
   "source": [
    "# Load the file, and extract the positions\n",
    "dat = np.loadtxt(FILE, comments='#')\n",
    "\n",
    "at_angle0 = dat[:,7] == 0\n",
    "at_angle1 = dat[:,7] == 1\n",
    "\n",
    "x0 = dat[at_angle0][:,0]\n",
    "x1 = dat[at_angle1][:,0]\n",
    "z0 = dat[at_angle0][:,4]\n",
    "z1 = dat[at_angle1][:,4]"
   ]
  },
  {
   "cell_type": "code",
   "execution_count": 8,
   "id": "b6019baa-8e70-47fd-a4ed-0f3839ecb17c",
   "metadata": {},
   "outputs": [
    {
     "data": {
      "text/plain": [
       "<matplotlib.legend.Legend at 0x11bb019a0>"
      ]
     },
     "execution_count": 8,
     "metadata": {},
     "output_type": "execute_result"
    },
    {
     "data": {
      "image/png": "[encoded data removed]",
      "text/plain": [
       "<Figure size 432x288 with 1 Axes>"
      ]
     },
     "metadata": {
      "needs_background": "light"
     },
     "output_type": "display_data"
    }
   ],
   "source": [
    "plt.plot(z0, x0, label='angle0')\n",
    "plt.plot(z1, x1, label='angle1')\n",
    "plt.xlabel('Z (m)')\n",
    "plt.ylabel('X (m)')\n",
    "plt.legend()"
   ]
  }
 ],
 "metadata": {
  "kernelspec": {
   "display_name": "Python 3 (ipykernel)",
   "language": "python",
   "name": "python3"
  },
  "language_info": {
   "codemirror_mode": {
    "name": "ipython",
    "version": 3
   },
   "file_extension": ".py",
   "mimetype": "text/x-python",
   "name": "python",
   "nbconvert_exporter": "python",
   "pygments_lexer": "ipython3",
   "version": "3.9.6"
  }
 },
 "nbformat": 4,
 "nbformat_minor": 5
}
