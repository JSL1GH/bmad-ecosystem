{
 "cells": [
  {
   "cell_type": "markdown",
   "metadata": {},
   "source": [
    "# pyTao advanced usage"
   ]
  },
  {
   "cell_type": "code",
   "execution_count": 1,
   "metadata": {},
   "outputs": [],
   "source": [
    "# Useful for debugging\n",
    "%load_ext autoreload\n",
    "%autoreload 2"
   ]
  },
  {
   "cell_type": "code",
   "execution_count": 2,
   "metadata": {},
   "outputs": [
    {
     "data": {
      "text/plain": [
       "\u001b[0;31mInit signature:\u001b[0m\n",
       "\u001b[0mTaoModel\u001b[0m\u001b[0;34m(\u001b[0m\u001b[0;34m\u001b[0m\n",
       "\u001b[0;34m\u001b[0m    \u001b[0minput_file\u001b[0m\u001b[0;34m=\u001b[0m\u001b[0;34m'tao.init'\u001b[0m\u001b[0;34m,\u001b[0m\u001b[0;34m\u001b[0m\n",
       "\u001b[0;34m\u001b[0m    \u001b[0mploton\u001b[0m\u001b[0;34m=\u001b[0m\u001b[0;32mTrue\u001b[0m\u001b[0;34m,\u001b[0m\u001b[0;34m\u001b[0m\n",
       "\u001b[0;34m\u001b[0m    \u001b[0muse_tempdir\u001b[0m\u001b[0;34m=\u001b[0m\u001b[0;32mTrue\u001b[0m\u001b[0;34m,\u001b[0m\u001b[0;34m\u001b[0m\n",
       "\u001b[0;34m\u001b[0m    \u001b[0mworkdir\u001b[0m\u001b[0;34m=\u001b[0m\u001b[0;32mNone\u001b[0m\u001b[0;34m,\u001b[0m\u001b[0;34m\u001b[0m\n",
       "\u001b[0;34m\u001b[0m    \u001b[0mverbose\u001b[0m\u001b[0;34m=\u001b[0m\u001b[0;32mTrue\u001b[0m\u001b[0;34m,\u001b[0m\u001b[0;34m\u001b[0m\n",
       "\u001b[0;34m\u001b[0m    \u001b[0mso_lib\u001b[0m\u001b[0;34m=\u001b[0m\u001b[0;34m''\u001b[0m\u001b[0;34m,\u001b[0m\u001b[0;34m\u001b[0m\n",
       "\u001b[0;34m\u001b[0m    \u001b[0mauto_configure\u001b[0m\u001b[0;34m=\u001b[0m\u001b[0;32mTrue\u001b[0m\u001b[0;34m,\u001b[0m\u001b[0;34m\u001b[0m\n",
       "\u001b[0;34m\u001b[0m\u001b[0;34m)\u001b[0m\u001b[0;34m\u001b[0m\u001b[0;34m\u001b[0m\u001b[0m\n",
       "\u001b[0;31mDocstring:\u001b[0m     \n",
       "Base class for setting up a Tao model in a directory. Builds upon the Tao class.\n",
       "\n",
       "If use_tempdir==True, then the input_file and its directory will be copied to a temporary directory.\n",
       "If workdir is given, then this temporary directory will be placed in workdir.\n",
       "\u001b[0;31mFile:\u001b[0m           ~/Code/bmad_svn/tao/python/pytao/tao_ctypes/core.py\n",
       "\u001b[0;31mType:\u001b[0m           type\n",
       "\u001b[0;31mSubclasses:\u001b[0m     \n"
      ]
     },
     "metadata": {},
     "output_type": "display_data"
    }
   ],
   "source": [
    "from pytao import Tao, TaoModel, util, run_tao\n",
    "from pytao.tao_ctypes.evaluate import evaluate_tao\n",
    "import os\n",
    "?TaoModel"
   ]
  },
  {
   "cell_type": "markdown",
   "metadata": {},
   "source": [
    "## Inititialize Tao"
   ]
  },
  {
   "cell_type": "code",
   "execution_count": 3,
   "metadata": {},
   "outputs": [
    {
     "name": "stdout",
     "output_type": "stream",
     "text": [
      "Bmad installation:  /Users/chrisonian/Code/bmad_svn/\n"
     ]
    }
   ],
   "source": [
    "# Point to local installation\n",
    "BASE_DIR=os.environ['ACC_ROOT_DIR'] \n",
    "print('Bmad installation: ', BASE_DIR)\n",
    "\n",
    "# Pick an example init\n",
    "root = BASE_DIR+'tao/examples/csr_beam_tracking/'\n",
    "\n",
    "INPUT_FILE = root+'tao.init'\n",
    "assert os.path.exists(INPUT_FILE), INPUT_FILE"
   ]
  },
  {
   "cell_type": "markdown",
   "metadata": {},
   "source": [
    "# run_tao"
   ]
  },
  {
   "cell_type": "code",
   "execution_count": 4,
   "metadata": {},
   "outputs": [
    {
     "data": {
      "text/plain": [
       "<pytao.tao_ctypes.core.TaoModel at 0x7fbdef7b3390>"
      ]
     },
     "execution_count": 4,
     "metadata": {},
     "output_type": "execute_result"
    }
   ],
   "source": [
    "M=run_tao(input_file=INPUT_FILE, ploton=True)\n",
    "M"
   ]
  },
  {
   "cell_type": "markdown",
   "metadata": {},
   "source": [
    "# evaluate_tao"
   ]
  },
  {
   "cell_type": "code",
   "execution_count": 5,
   "metadata": {},
   "outputs": [
    {
     "data": {
      "text/plain": [
       "\u001b[0;31mSignature:\u001b[0m\n",
       "\u001b[0mevaluate_tao\u001b[0m\u001b[0;34m(\u001b[0m\u001b[0;34m\u001b[0m\n",
       "\u001b[0;34m\u001b[0m    \u001b[0msettings\u001b[0m\u001b[0;34m,\u001b[0m\u001b[0;34m\u001b[0m\n",
       "\u001b[0;34m\u001b[0m    \u001b[0mrun_commands\u001b[0m\u001b[0;34m=\u001b[0m\u001b[0;34m[\u001b[0m\u001b[0;34m'set global track_type=beam'\u001b[0m\u001b[0;34m]\u001b[0m\u001b[0;34m,\u001b[0m\u001b[0;34m\u001b[0m\n",
       "\u001b[0;34m\u001b[0m    \u001b[0mexpressions\u001b[0m\u001b[0;34m=\u001b[0m\u001b[0;34m[\u001b[0m\u001b[0;34m'lat::orbit.x[end]'\u001b[0m\u001b[0;34m]\u001b[0m\u001b[0;34m,\u001b[0m\u001b[0;34m\u001b[0m\n",
       "\u001b[0;34m\u001b[0m    \u001b[0minput_file\u001b[0m\u001b[0;34m=\u001b[0m\u001b[0;32mNone\u001b[0m\u001b[0;34m,\u001b[0m\u001b[0;34m\u001b[0m\n",
       "\u001b[0;34m\u001b[0m    \u001b[0mploton\u001b[0m\u001b[0;34m=\u001b[0m\u001b[0;32mFalse\u001b[0m\u001b[0;34m,\u001b[0m\u001b[0;34m\u001b[0m\n",
       "\u001b[0;34m\u001b[0m    \u001b[0mbeam_archive_path\u001b[0m\u001b[0;34m=\u001b[0m\u001b[0;32mNone\u001b[0m\u001b[0;34m,\u001b[0m\u001b[0;34m\u001b[0m\n",
       "\u001b[0;34m\u001b[0m    \u001b[0mworkdir\u001b[0m\u001b[0;34m=\u001b[0m\u001b[0;32mNone\u001b[0m\u001b[0;34m,\u001b[0m\u001b[0;34m\u001b[0m\n",
       "\u001b[0;34m\u001b[0m    \u001b[0mso_lib\u001b[0m\u001b[0;34m=\u001b[0m\u001b[0;34m''\u001b[0m\u001b[0;34m,\u001b[0m\u001b[0;34m\u001b[0m\n",
       "\u001b[0;34m\u001b[0m    \u001b[0mverbose\u001b[0m\u001b[0;34m=\u001b[0m\u001b[0;32mFalse\u001b[0m\u001b[0;34m,\u001b[0m\u001b[0;34m\u001b[0m\n",
       "\u001b[0;34m\u001b[0m\u001b[0;34m)\u001b[0m\u001b[0;34m\u001b[0m\u001b[0;34m\u001b[0m\u001b[0m\n",
       "\u001b[0;31mDocstring:\u001b[0m\n",
       "settings: dict of set_command:value where set_command is a string.\n",
       "    Example:\n",
       "        'global:track_type':'beam'\n",
       "            will issue command:\n",
       "        set global track_type = beam\n",
       "\n",
       "run_commands: list of command strings that will be executed.\n",
       "\n",
       "expressions: list of expression strings that will be used to form the output.\n",
       "\n",
       "beam_archive_path: if given, the all of the saved beams will be written to\n",
       "    a file named by a fingerprint (hash) of the inputs into path beam_archive_path.\n",
       "    This uses the command:\n",
       "        write beam -at *\n",
       "    which writes ALL of the bunches that are saved using the beam_saved_at list in beam_init. \n",
       "\n",
       "Returns a dict of expression:value, according to the expressions above, as well as \n",
       "    beam_archive if a  beam_archive_path was given.\n",
       "\n",
       "\n",
       "\n",
       "Example:\n",
       "\n",
       "evaluate_tao(settings={}, \n",
       "               input_file=tao.init', \n",
       "               run_commands=['set global track_type=beam'],\n",
       "               expressions = ['lat::orbit.x[FF.PIP02A]', 'beam::norm_emit.x[end]'],\n",
       "               ploton=False, \n",
       "               beam_archive_path = '.')\n",
       "               \n",
       "Returns:\n",
       "\n",
       "    {'lat::orbit.x[FF.PIP02A]': 0.0,\n",
       "     'beam::norm_emit.x[end]': 9.9982321550206e-07,\n",
       "     'beam_archive': /path/to/bmad_beam_7fd6d30ac45a3d8c0d45112f4b569dee.h5'}\n",
       "\n",
       "\n",
       "\n",
       "See: run_tao\n",
       "\u001b[0;31mFile:\u001b[0m      ~/Code/bmad_svn/tao/python/pytao/tao_ctypes/evaluate.py\n",
       "\u001b[0;31mType:\u001b[0m      function\n"
      ]
     },
     "metadata": {},
     "output_type": "display_data"
    }
   ],
   "source": [
    "?evaluate_tao"
   ]
  },
  {
   "cell_type": "code",
   "execution_count": 6,
   "metadata": {},
   "outputs": [
    {
     "data": {
      "text/plain": [
       "{'lat::orbit.x[FF.PIP02A]': 0.0,\n",
       " 'beam::norm_emit.x[end]': 9.9982321550206e-07,\n",
       " 'beam_archive': '/Users/chrisonian/Code/bmad_svn/tao/python/examples/bmad_beam_7fd6d30ac45a3d8c0d45112f4b569dee.h5'}"
      ]
     },
     "execution_count": 6,
     "metadata": {},
     "output_type": "execute_result"
    }
   ],
   "source": [
    "res = evaluate_tao(settings={}, \n",
    "                   input_file=root+'tao.init', \n",
    "                   run_commands=['set global track_type=beam'],\n",
    "                   expressions = ['lat::orbit.x[FF.PIP02A]', 'beam::norm_emit.x[end]'],\n",
    "                   ploton=False, \n",
    "                   beam_archive_path = '.')\n",
    "res"
   ]
  },
  {
   "cell_type": "code",
   "execution_count": 7,
   "metadata": {},
   "outputs": [
    {
     "data": {
      "text/plain": [
       "['/data/00001/particles/',\n",
       " '/data/00002/particles/',\n",
       " '/data/00003/particles/',\n",
       " '/data/00004/particles/']"
      ]
     },
     "execution_count": 7,
     "metadata": {},
     "output_type": "execute_result"
    }
   ],
   "source": [
    "from pmd_beamphysics import ParticleGroup, particle_paths\n",
    "from h5py import File\n",
    "afile = res['beam_archive']\n",
    "h5 = File(afile, 'r')\n",
    "ppaths = particle_paths(h5)\n",
    "ppaths"
   ]
  },
  {
   "cell_type": "code",
   "execution_count": 8,
   "metadata": {},
   "outputs": [
    {
     "data": {
      "image/png": "[encoded data removed]",
      "text/plain": [
       "<Figure size 432x288 with 3 Axes>"
      ]
     },
     "metadata": {
      "needs_background": "light"
     },
     "output_type": "display_data"
    }
   ],
   "source": [
    "P = ParticleGroup(h5[ppaths[-1]])\n",
    "P.plot('delta_t', 'delta_pz', bins=200)"
   ]
  },
  {
   "cell_type": "code",
   "execution_count": 9,
   "metadata": {},
   "outputs": [],
   "source": [
    "os.remove(afile)"
   ]
  },
  {
   "cell_type": "markdown",
   "metadata": {},
   "source": [
    "## evaluate examples"
   ]
  },
  {
   "cell_type": "code",
   "execution_count": 10,
   "metadata": {},
   "outputs": [
    {
     "data": {
      "text/plain": [
       "0.0"
      ]
     },
     "execution_count": 10,
     "metadata": {},
     "output_type": "execute_result"
    }
   ],
   "source": [
    "M.evaluate('lat::orbit.x[end]')"
   ]
  },
  {
   "cell_type": "code",
   "execution_count": null,
   "metadata": {},
   "outputs": [],
   "source": []
  }
 ],
 "metadata": {
  "kernelspec": {
   "display_name": "Python 3",
   "language": "python",
   "name": "python3"
  },
  "language_info": {
   "codemirror_mode": {
    "name": "ipython",
    "version": 3
   },
   "file_extension": ".py",
   "mimetype": "text/x-python",
   "name": "python",
   "nbconvert_exporter": "python",
   "pygments_lexer": "ipython3",
   "version": "3.7.6"
  }
 },
 "nbformat": 4,
 "nbformat_minor": 4
}
