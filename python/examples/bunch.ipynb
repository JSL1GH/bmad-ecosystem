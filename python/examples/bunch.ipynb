{
 "cells": [
  {
   "cell_type": "markdown",
   "metadata": {},
   "source": [
    "# Bunch commands for pyTao"
   ]
  },
  {
   "cell_type": "code",
   "execution_count": 1,
   "metadata": {},
   "outputs": [],
   "source": [
    "from pytao import Tao, util\n",
    "from pytao.util import parse_bool\n",
    "import os"
   ]
  },
  {
   "cell_type": "code",
   "execution_count": 2,
   "metadata": {},
   "outputs": [
    {
     "name": "stdout",
     "output_type": "stream",
     "text": [
      "Bmad installation:  /Users/chrisonian/Code/bmad_svn/\n"
     ]
    }
   ],
   "source": [
    "# Point to local installation\n",
    "BASE_DIR=os.environ['ACC_ROOT_DIR'] \n",
    "print('Bmad installation: ', BASE_DIR)\n",
    "\n",
    "\n",
    "# Pick an example init\n",
    "root = BASE_DIR+'tao/examples/csr_beam_tracking/'\n",
    "os.chdir(root)\n",
    "init = root+'tao.init'\n",
    "# Make tao instance\n",
    "tao=Tao()   \n",
    "tao.init('-noplot -init '+init);"
   ]
  },
  {
   "cell_type": "markdown",
   "metadata": {},
   "source": [
    "---\n",
    "# bunch1"
   ]
  },
  {
   "cell_type": "raw",
   "metadata": {},
   "source": [
    "\n",
    "!----------------------------------------------------------------------\n",
    "! Bunch parameters at the exit end of a given lattice element.\n",
    "! Command syntax:\n",
    "!   python bunch1 {ix_universe}@{ix_branch}>>{ix_ele}|{which} coordinate\n",
    "! where {which} is one of:\n",
    "!   model\n",
    "!   base\n",
    "!   design\n",
    "!\n",
    "! Optional coordinate is one of:\n",
    "! x, px, y, py, z, pz, 's', 't', 'charge', 'p0c'\n",
    "! and will return an array. \n",
    "!\n",
    "!\n"
   ]
  },
  {
   "cell_type": "code",
   "execution_count": 9,
   "metadata": {},
   "outputs": [
    {
     "data": {
      "text/plain": [
       "['[ERROR | 2019-SEP-04 13:37:20] tao_python_cmd:',\n",
       " '    \"python bunch1 1@0>>0|model\": Bad int number',\n",
       " 'INVALID']"
      ]
     },
     "execution_count": 9,
     "metadata": {},
     "output_type": "execute_result"
    }
   ],
   "source": [
    "# Bunch data for universe 1, branch 0, element 0 (beginnig) for the model.\n",
    "tao.cmd('python bunch1 1@0>>0|model')"
   ]
  },
  {
   "cell_type": "code",
   "execution_count": 8,
   "metadata": {},
   "outputs": [
    {
     "name": "stdout",
     "output_type": "stream",
     "text": [
      "-------------------------\n",
      "Tao> sho beam 0\n",
      "Cached bunch parameters:\n",
      "  Parameters for bunch:       1\n",
      "  Particles surviving:        1000\n",
      "  Particles lost:             0\n",
      "  Particles lost (%):         .000\n",
      "  Charge live (C):              7.70000000E-11\n",
      "  Centroid: -8.10391301E-22 -3.60173912E-21 -3.45166665E-22  9.12440576E-21  2.24108212E-20  0.00000000E+00\n",
      "  RMS:       6.18625931E-05  4.76634151E-04  6.46806279E-05  4.16429241E-04  8.99377000E-04  0.00000000E+00\n",
      "             norm_emitt           beta             alpha\n",
      "  a:         9.99926012E-07  3.14546998E-01 -2.20756426E+00\n",
      "  b:         9.99926012E-07  3.43851915E-01  1.97507994E+00\n",
      "  x:         9.99925984E-07  3.14546985E-01 -2.20756421E+00\n",
      "  y:         9.99925984E-07  3.43856898E-01  1.97510853E+00\n",
      "  z:         0.00000000E+00  0.00000000E+00\n",
      "\n",
      "Sigma Mat       x              px               y              py              z             pz\n",
      "X     3.82698042E-09  2.68586425E-08  6.09119800E-26 -6.91251743E-25  3.90813706E-25  0.00000000E+00\n",
      "Px    2.68586425E-08  2.27180113E-07  6.27133869E-25 -4.94379338E-24  1.87590579E-24  0.00000000E+00\n",
      "Y     6.09119800E-26  6.27133869E-25  4.18358363E-09 -2.40304375E-08  1.16022819E-24  0.00000000E+00\n",
      "Py   -6.91251743E-25 -4.94379338E-24 -2.40304375E-08  1.73413313E-07 -2.67707389E-24  0.00000000E+00\n",
      "Z     3.90813706E-25  1.87590579E-24  1.16022819E-24 -2.67707389E-24  8.08878988E-07  0.00000000E+00\n",
      "Pz    0.00000000E+00  0.00000000E+00  0.00000000E+00  0.00000000E+00  0.00000000E+00  0.00000000E+00\n",
      "\n",
      "Note: Individual particle positions are saved at this element.\n",
      "-------------------------\n",
      "Tao> \n"
     ]
    }
   ],
   "source": [
    "%%tao\n",
    "sho beam 0"
   ]
  },
  {
   "cell_type": "code",
   "execution_count": null,
   "metadata": {},
   "outputs": [],
   "source": [
    "# Parse output into dict\n",
    "bdata = util.parse_tao_python_data(tao.cmd('python bunch1 1@0>>0|model'))\n",
    "bdata.keys()"
   ]
  },
  {
   "cell_type": "code",
   "execution_count": null,
   "metadata": {},
   "outputs": [],
   "source": [
    "bdata['beam_saved']"
   ]
  },
  {
   "cell_type": "code",
   "execution_count": null,
   "metadata": {},
   "outputs": [],
   "source": [
    "xdat = tao.cmd_real('python bunch1 1@0>>8|model x')\n",
    "pxdat = tao.cmd_real('python bunch1 1@0>>8|model px')\n",
    "ydat = tao.cmd_real('python bunch1 1@0>>8|model y')\n",
    "pydat = tao.cmd_real('python bunch1 1@0>>8|model py')\n",
    "zdat = tao.cmd_real('python bunch1 1@0>>8|model z')\n",
    "pzdat = tao.cmd_real('python bunch1 1@0>>8|model pz')\n",
    "chargedat = tao.cmd_real('python bunch1 1@0>>8|model charge')\n",
    "p0cdat = tao.cmd_real('python bunch1 1@0>>8|model p0c')\n",
    "state = tao.cmd_integer('python bunch1 1@0>>8|model state') # integers\n",
    "# Unique p0C (eV), charge (pC)\n",
    "set(p0cdat), sum(chargedat)*1e12"
   ]
  },
  {
   "cell_type": "markdown",
   "metadata": {},
   "source": [
    "# Plot in matplotlib"
   ]
  },
  {
   "cell_type": "code",
   "execution_count": null,
   "metadata": {},
   "outputs": [],
   "source": [
    "import matplotlib.pyplot as plt"
   ]
  },
  {
   "cell_type": "code",
   "execution_count": null,
   "metadata": {},
   "outputs": [],
   "source": [
    "xdata = 1000*xdat\n",
    "ydata = 1000*pxdat\n",
    "weights = chargedat"
   ]
  },
  {
   "cell_type": "code",
   "execution_count": null,
   "metadata": {},
   "outputs": [],
   "source": [
    "mycmap = plt.get_cmap('plasma') # viridis plasma inferno magma and _r versions\n",
    "mycmap.set_under(color='white') # map 0 to this color\n",
    "myvmin = 1e-30 # something tiny\n",
    "# Bin particles\n",
    "plt.hist2d(x=1000*xdata, y=ydata,  bins=2*[40], weights=weights, cmap=mycmap, vmin=myvmin)\n",
    "plt.xlabel('x (mm)')\n",
    "plt.ylabel('px (mrad)')\n",
    "plt.show()"
   ]
  },
  {
   "cell_type": "markdown",
   "metadata": {},
   "source": [
    "# Plot in Bokeh"
   ]
  },
  {
   "cell_type": "code",
   "execution_count": null,
   "metadata": {},
   "outputs": [],
   "source": [
    "import numpy as np\n",
    "from bokeh.plotting import figure, show, output_notebook\n",
    "from bokeh import palettes, colors\n",
    "from bokeh.models import ColumnDataSource, HoverTool\n",
    "output_notebook(verbose=False, hide_banner=True)\n",
    "\n",
    "pal = palettes.Viridis[256]\n",
    "white=colors.named.white\n",
    "pal[0] = white # replace 0 with white"
   ]
  },
  {
   "cell_type": "code",
   "execution_count": null,
   "metadata": {},
   "outputs": [],
   "source": [
    "xdata = 1000*zdat\n",
    "ydata = 1000*pzdat"
   ]
  },
  {
   "cell_type": "code",
   "execution_count": null,
   "metadata": {},
   "outputs": [],
   "source": [
    "H, xedges, yedges = np.histogram2d(xdata, ydata, weights=chargedat, bins=40)\n",
    "xmin, xmax = min(xedges), max(xedges)\n",
    "ymin, ymax = min(yedges), max(yedges)"
   ]
  },
  {
   "cell_type": "code",
   "execution_count": null,
   "metadata": {},
   "outputs": [],
   "source": [
    "ds = ColumnDataSource(data=dict(image=[H.transpose()]))   \n",
    "p = figure(x_range=[xmin, xmax], y_range=[ymin, ymax], title='Bunch at end', \n",
    "           x_axis_label='z (mm)', y_axis_label='pz (1e-3)',\n",
    "           plot_width=500, plot_height=500)\n",
    "p.image(image='image', source=ds, \n",
    "    x=xmin, y=ymin, dw=xmax-xmin, dh=ymax-ymin, palette=pal)\n",
    "show(p)"
   ]
  },
  {
   "cell_type": "code",
   "execution_count": null,
   "metadata": {},
   "outputs": [],
   "source": []
  },
  {
   "cell_type": "code",
   "execution_count": null,
   "metadata": {},
   "outputs": [],
   "source": []
  }
 ],
 "metadata": {
  "kernelspec": {
   "display_name": "Python 3",
   "language": "python",
   "name": "python3"
  },
  "language_info": {
   "codemirror_mode": {
    "name": "ipython",
    "version": 3
   },
   "file_extension": ".py",
   "mimetype": "text/x-python",
   "name": "python",
   "nbconvert_exporter": "python",
   "pygments_lexer": "ipython3",
   "version": "3.7.3"
  }
 },
 "nbformat": 4,
 "nbformat_minor": 2
}
