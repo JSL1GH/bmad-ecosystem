{
 "cells": [
  {
   "cell_type": "markdown",
   "metadata": {},
   "source": [
    "# Bunch commands for pyTao"
   ]
  },
  {
   "cell_type": "code",
   "execution_count": 1,
   "metadata": {},
   "outputs": [],
   "source": [
    "from pytao import Tao\n",
    "from pytao.tao_ctypes import util\n",
    "import numpy as np\n",
    "\n",
    "import os"
   ]
  },
  {
   "cell_type": "code",
   "execution_count": 2,
   "metadata": {},
   "outputs": [
    {
     "name": "stdout",
     "output_type": "stream",
     "text": [
      "Bmad installation:  /Users/chrisonian/Code/bmad_svn/\n"
     ]
    }
   ],
   "source": [
    "# Point to local installation\n",
    "BASE_DIR=os.environ['ACC_ROOT_DIR'] \n",
    "print('Bmad installation: ', BASE_DIR)\n",
    "\n",
    "\n",
    "# Pick an example init\n",
    "root = BASE_DIR+'tao/examples/csr_beam_tracking/'\n",
    "os.chdir(root)\n",
    "init = root+'tao.init'\n",
    "# Make tao instance\n",
    "tao=Tao()   \n",
    "tao.init('-noplot -init '+init);"
   ]
  },
  {
   "cell_type": "markdown",
   "metadata": {},
   "source": [
    "---\n",
    "# bunch1"
   ]
  },
  {
   "cell_type": "raw",
   "metadata": {},
   "source": [
    "\n",
    "!----------------------------------------------------------------------\n",
    "! Bunch parameters at the exit end of a given lattice element.\n",
    "! Command syntax:\n",
    "!   python bunch1 {ix_universe}@{ix_branch}>>{ix_ele}|{which} coordinate\n",
    "! where {which} is one of:\n",
    "!   model\n",
    "!   base\n",
    "!   design\n",
    "!\n",
    "! Optional coordinate is one of:\n",
    "! x, px, y, py, z, pz, 's', 't', 'charge', 'p0c'\n",
    "! and will return an array. \n",
    "!\n",
    "!\n"
   ]
  },
  {
   "cell_type": "code",
   "execution_count": 3,
   "metadata": {},
   "outputs": [
    {
     "data": {
      "text/plain": [
       "['beta_x;REAL;F;  3.1454698480000E-01',\n",
       " 'alpha_x;REAL;F; -2.2075642140000E+00',\n",
       " 'gamma_x;REAL;F;  1.8672376601123E+01',\n",
       " 'phi_x;REAL;F;  0.0000000000000E+00',\n",
       " 'eta_x;REAL;F;  0.0000000000000E+00',\n",
       " 'etap_x;REAL;F;  0.0000000000000E+00',\n",
       " 'sigma_x;REAL;F;  6.1862593312857E-05',\n",
       " 'sigma_p_x;REAL;F;  4.7663415233375E-04',\n",
       " 'emit_x;REAL;F;  1.2166641666667E-08',\n",
       " 'norm_emit_x;REAL;F;  9.9992598367606E-07',\n",
       " 'beta_y;REAL;F;  3.4385689760000E-01',\n",
       " 'alpha_y;REAL;F;  1.9751085275000E+00',\n",
       " 'gamma_y;REAL;F;  1.4253178370452E+01',\n",
       " 'phi_y;REAL;F;  0.0000000000000E+00',\n",
       " 'eta_y;REAL;F;  0.0000000000000E+00',\n",
       " 'etap_y;REAL;F;  0.0000000000000E+00',\n",
       " 'sigma_y;REAL;F;  6.4680628148703E-05',\n",
       " 'sigma_p_y;REAL;F;  4.1642924230219E-04',\n",
       " 'emit_y;REAL;F;  1.2166641666667E-08',\n",
       " 'norm_emit_y;REAL;F;  9.9992598367606E-07',\n",
       " 'beta_z;REAL;F;  0.0000000000000E+00',\n",
       " 'alpha_z;REAL;F;  0.0000000000000E+00',\n",
       " 'gamma_z;REAL;F;  0.0000000000000E+00',\n",
       " 'phi_z;REAL;F;  0.0000000000000E+00',\n",
       " 'eta_z;REAL;F;  0.0000000000000E+00',\n",
       " 'etap_z;REAL;F;  0.0000000000000E+00',\n",
       " 'sigma_z;REAL;F;  8.9937699999999E-04',\n",
       " 'sigma_p_z;REAL;F;  0.0000000000000E+00',\n",
       " 'emit_z;REAL;F;  0.0000000000000E+00',\n",
       " 'norm_emit_z;REAL;F;  0.0000000000000E+00',\n",
       " 'beta_a;REAL;F;  3.1454699769776E-01',\n",
       " 'alpha_a;REAL;F; -2.2075642572015E+00',\n",
       " 'gamma_a;REAL;F;  1.8672376441873E+01',\n",
       " 'phi_a;REAL;F;  0.0000000000000E+00',\n",
       " 'eta_a;REAL;F;  0.0000000000000E+00',\n",
       " 'etap_a;REAL;F;  0.0000000000000E+00',\n",
       " 'sigma_a;REAL;F;  0.0000000000000E+00',\n",
       " 'sigma_p_a;REAL;F;  0.0000000000000E+00',\n",
       " 'emit_a;REAL;F;  1.2166641916167E-08',\n",
       " 'norm_emit_a;REAL;F;  9.9992600418147E-07',\n",
       " 'beta_b;REAL;F;  3.4379058964936E-01',\n",
       " 'alpha_b;REAL;F;  1.9747277058156E+00',\n",
       " 'gamma_b;REAL;F;  1.4250431076174E+01',\n",
       " 'phi_b;REAL;F;  0.0000000000000E+00',\n",
       " 'eta_b;REAL;F;  0.0000000000000E+00',\n",
       " 'etap_b;REAL;F;  0.0000000000000E+00',\n",
       " 'sigma_b;REAL;F;  0.0000000000000E+00',\n",
       " 'sigma_p_b;REAL;F;  0.0000000000000E+00',\n",
       " 'emit_b;REAL;F;  1.2166641916167E-08',\n",
       " 'norm_emit_b;REAL;F;  9.9992600418147E-07',\n",
       " 'beta_c;REAL;F;  0.0000000000000E+00',\n",
       " 'alpha_c;REAL;F;  0.0000000000000E+00',\n",
       " 'gamma_c;REAL;F;  0.0000000000000E+00',\n",
       " 'phi_c;REAL;F;  0.0000000000000E+00',\n",
       " 'eta_c;REAL;F;  0.0000000000000E+00',\n",
       " 'etap_c;REAL;F;  0.0000000000000E+00',\n",
       " 'sigma_c;REAL;F;  0.0000000000000E+00',\n",
       " 'sigma_p_c;REAL;F;  0.0000000000000E+00',\n",
       " 'emit_c;REAL;F;  0.0000000000000E+00',\n",
       " 'norm_emit_c;REAL;F;  0.0000000000000E+00',\n",
       " 'sigma_11;REAL;F;  3.8269804513920E-09',\n",
       " 'sigma_12;REAL;F;  2.6858642747894E-08',\n",
       " 'sigma_13;REAL;F;  1.0671046119802E-25',\n",
       " 'sigma_14;REAL;F; -4.4332929802440E-25',\n",
       " 'sigma_15;REAL;F;  4.1035439155977E-25',\n",
       " 'sigma_16;REAL;F;  0.0000000000000E+00',\n",
       " 'sigma_21;REAL;F;  2.6858642747894E-08',\n",
       " 'sigma_22;REAL;F;  2.2718011517092E-07',\n",
       " 'sigma_23;REAL;F;  4.3233766253619E-25',\n",
       " 'sigma_24;REAL;F; -6.8685508872981E-24',\n",
       " 'sigma_25;REAL;F; -7.8162741249481E-25',\n",
       " 'sigma_26;REAL;F;  0.0000000000000E+00',\n",
       " 'sigma_31;REAL;F;  1.0671046119802E-25',\n",
       " 'sigma_32;REAL;F;  4.3233766253619E-25',\n",
       " 'sigma_33;REAL;F;  4.1835836577108E-09',\n",
       " 'sigma_34;REAL;F; -2.4030437706870E-08',\n",
       " 'sigma_35;REAL;F;  4.3722283386428E-25',\n",
       " 'sigma_36;REAL;F;  0.0000000000000E+00',\n",
       " 'sigma_41;REAL;F; -4.4332929802440E-25',\n",
       " 'sigma_42;REAL;F; -6.8685508872981E-24',\n",
       " 'sigma_43;REAL;F; -2.4030437706870E-08',\n",
       " 'sigma_44;REAL;F;  1.7341331384438E-07',\n",
       " 'sigma_45;REAL;F; -8.3829539990068E-24',\n",
       " 'sigma_46;REAL;F;  0.0000000000000E+00',\n",
       " 'sigma_51;REAL;F;  4.1035439155977E-25',\n",
       " 'sigma_52;REAL;F; -7.8162741249481E-25',\n",
       " 'sigma_53;REAL;F;  4.3722283386428E-25',\n",
       " 'sigma_54;REAL;F; -8.3829539990068E-24',\n",
       " 'sigma_55;REAL;F;  8.0887898812899E-07',\n",
       " 'sigma_56;REAL;F;  0.0000000000000E+00',\n",
       " 'sigma_61;REAL;F;  0.0000000000000E+00',\n",
       " 'sigma_62;REAL;F;  0.0000000000000E+00',\n",
       " 'sigma_63;REAL;F;  0.0000000000000E+00',\n",
       " 'sigma_64;REAL;F;  0.0000000000000E+00',\n",
       " 'sigma_65;REAL;F;  0.0000000000000E+00',\n",
       " 'sigma_66;REAL;F;  0.0000000000000E+00',\n",
       " 'rel_min_1;REAL;F; -1.9106679619042E-04',\n",
       " 'rel_max_1;REAL;F;  1.9076166571869E-04',\n",
       " 'centroid_vec_1;REAL;F; -8.5041062479435E-22',\n",
       " 'rel_min_2;REAL;F; -1.4007949240860E-03',\n",
       " 'rel_max_2;REAL;F;  1.4682832680569E-03',\n",
       " 'centroid_vec_2;REAL;F; -4.6422415282892E-21',\n",
       " 'rel_min_3;REAL;F; -2.0161923897109E-04',\n",
       " 'rel_max_3;REAL;F;  1.9951741503984E-04',\n",
       " 'centroid_vec_3;REAL;F; -1.3519027726510E-21',\n",
       " 'rel_min_4;REAL;F; -1.3687543783974E-03',\n",
       " 'rel_max_4;REAL;F;  1.3697689473136E-03',\n",
       " 'centroid_vec_4;REAL;F;  6.2230048073187E-21',\n",
       " 'rel_min_5;REAL;F; -2.6211048199747E-03',\n",
       " 'rel_max_5;REAL;F;  2.7994025548108E-03',\n",
       " 'centroid_vec_5;REAL;F;  2.2410821171051E-20',\n",
       " 'rel_min_6;REAL;F;  0.0000000000000E+00',\n",
       " 'rel_max_6;REAL;F;  0.0000000000000E+00',\n",
       " 'centroid_vec_6;REAL;F;  0.0000000000000E+00',\n",
       " 'centroid_t;REAL;F; -5.2346232810055E-39',\n",
       " 'centroid_p0c;REAL;F;  4.1996891314395E+07',\n",
       " 'centroid_beta;REAL;F;  9.9992598367607E-01',\n",
       " 'ix_ele;INT;F;0',\n",
       " 'direction;INT;F;1',\n",
       " 'species;SPECIES;F;Electron',\n",
       " 'location;ENUM;F;Downstream_End',\n",
       " 's;REAL;F;  0.0000000000000E+00',\n",
       " 'charge_live;REAL;F;  7.7000000000001E-11',\n",
       " 'n_particle_tot;INT;F;1000',\n",
       " 'n_particle_live;INT;F;1000',\n",
       " 'n_particle_lost_in_ele;INT;F;0',\n",
       " 'beam_saved;LOGIC;T;T']"
      ]
     },
     "execution_count": 3,
     "metadata": {},
     "output_type": "execute_result"
    }
   ],
   "source": [
    "# Bunch data for universe 1, branch 0, element 0 (beginnig) for the model.\n",
    "tao.cmd('python bunch1 1@0>>0|model 1')"
   ]
  },
  {
   "cell_type": "code",
   "execution_count": 4,
   "metadata": {},
   "outputs": [
    {
     "name": "stdout",
     "output_type": "stream",
     "text": [
      "-------------------------\n",
      "Tao> sho beam 0\n",
      "Cached bunch parameters:\n",
      "  Parameters for bunch:       1\n",
      "  Particles surviving:        1000\n",
      "  Particles lost:             0\n",
      "  Particles lost (%):         .000\n",
      "  Charge live (C):              7.70000000E-11\n",
      "  Centroid: -8.50410625E-22 -4.64224153E-21 -1.35190277E-21  6.22300481E-21  2.24108212E-20  0.00000000E+00\n",
      "  RMS:       6.18625933E-05  4.76634152E-04  6.46806281E-05  4.16429242E-04  8.99377000E-04  0.00000000E+00\n",
      "             norm_emitt           beta             alpha\n",
      "  a:         9.99926004E-07  3.14546998E-01 -2.20756426E+00\n",
      "  b:         9.99926004E-07  3.43790590E-01  1.97472771E+00\n",
      "  x:         9.99925984E-07  3.14546985E-01 -2.20756421E+00\n",
      "  y:         9.99925984E-07  3.43856898E-01  1.97510853E+00\n",
      "  z:         0.00000000E+00  0.00000000E+00\n",
      "\n",
      "Sigma Mat       x              px               y              py              z             pz\n",
      "X     3.82698045E-09  2.68586427E-08  1.06710461E-25 -4.43329298E-25  4.10354392E-25  0.00000000E+00\n",
      "Px    2.68586427E-08  2.27180115E-07  4.32337663E-25 -6.86855089E-24 -7.81627412E-25  0.00000000E+00\n",
      "Y     1.06710461E-25  4.32337663E-25  4.18358366E-09 -2.40304377E-08  4.37222834E-25  0.00000000E+00\n",
      "Py   -4.43329298E-25 -6.86855089E-24 -2.40304377E-08  1.73413314E-07 -8.38295400E-24  0.00000000E+00\n",
      "Z     4.10354392E-25 -7.81627412E-25  4.37222834E-25 -8.38295400E-24  8.08878988E-07  0.00000000E+00\n",
      "Pz    0.00000000E+00  0.00000000E+00  0.00000000E+00  0.00000000E+00  0.00000000E+00  0.00000000E+00\n",
      "\n",
      "Note: Individual particle positions are saved at this element.\n",
      "-------------------------\n",
      "Tao> write beam -at 0\n",
      "[INFO] tao_write_cmd:\n",
      "    Written: beam_1.hdf5\n",
      "-------------------------\n",
      "Tao> \n"
     ]
    }
   ],
   "source": [
    "%%tao\n",
    "sho beam 0\n",
    "write beam -at 0"
   ]
  },
  {
   "cell_type": "code",
   "execution_count": 5,
   "metadata": {},
   "outputs": [
    {
     "data": {
      "text/plain": [
       "dict_keys(['beta_x', 'alpha_x', 'gamma_x', 'phi_x', 'eta_x', 'etap_x', 'sigma_x', 'sigma_p_x', 'emit_x', 'norm_emit_x', 'beta_y', 'alpha_y', 'gamma_y', 'phi_y', 'eta_y', 'etap_y', 'sigma_y', 'sigma_p_y', 'emit_y', 'norm_emit_y', 'beta_z', 'alpha_z', 'gamma_z', 'phi_z', 'eta_z', 'etap_z', 'sigma_z', 'sigma_p_z', 'emit_z', 'norm_emit_z', 'beta_a', 'alpha_a', 'gamma_a', 'phi_a', 'eta_a', 'etap_a', 'sigma_a', 'sigma_p_a', 'emit_a', 'norm_emit_a', 'beta_b', 'alpha_b', 'gamma_b', 'phi_b', 'eta_b', 'etap_b', 'sigma_b', 'sigma_p_b', 'emit_b', 'norm_emit_b', 'beta_c', 'alpha_c', 'gamma_c', 'phi_c', 'eta_c', 'etap_c', 'sigma_c', 'sigma_p_c', 'emit_c', 'norm_emit_c', 'sigma_11', 'sigma_12', 'sigma_13', 'sigma_14', 'sigma_15', 'sigma_16', 'sigma_21', 'sigma_22', 'sigma_23', 'sigma_24', 'sigma_25', 'sigma_26', 'sigma_31', 'sigma_32', 'sigma_33', 'sigma_34', 'sigma_35', 'sigma_36', 'sigma_41', 'sigma_42', 'sigma_43', 'sigma_44', 'sigma_45', 'sigma_46', 'sigma_51', 'sigma_52', 'sigma_53', 'sigma_54', 'sigma_55', 'sigma_56', 'sigma_61', 'sigma_62', 'sigma_63', 'sigma_64', 'sigma_65', 'sigma_66', 'rel_min_1', 'rel_max_1', 'centroid_vec_1', 'rel_min_2', 'rel_max_2', 'centroid_vec_2', 'rel_min_3', 'rel_max_3', 'centroid_vec_3', 'rel_min_4', 'rel_max_4', 'centroid_vec_4', 'rel_min_5', 'rel_max_5', 'centroid_vec_5', 'rel_min_6', 'rel_max_6', 'centroid_vec_6', 'centroid_t', 'centroid_p0c', 'centroid_beta', 'ix_ele', 'direction', 'species', 'location', 's', 'charge_live', 'n_particle_tot', 'n_particle_live', 'n_particle_lost_in_ele', 'beam_saved'])"
      ]
     },
     "execution_count": 5,
     "metadata": {},
     "output_type": "execute_result"
    }
   ],
   "source": [
    "# Parse output into dict\n",
    "bdata = util.parse_tao_python_data(tao.cmd('python bunch1 1@0>>0|model 1'))\n",
    "bdata.keys()"
   ]
  },
  {
   "cell_type": "code",
   "execution_count": 6,
   "metadata": {},
   "outputs": [
    {
     "data": {
      "text/plain": [
       "True"
      ]
     },
     "execution_count": 6,
     "metadata": {},
     "output_type": "execute_result"
    }
   ],
   "source": [
    "bdata['beam_saved']"
   ]
  },
  {
   "cell_type": "code",
   "execution_count": 7,
   "metadata": {},
   "outputs": [
    {
     "data": {
      "text/plain": [
       "({41996891.31439491}, 77.0000000000011)"
      ]
     },
     "execution_count": 7,
     "metadata": {},
     "output_type": "execute_result"
    }
   ],
   "source": [
    "xdat = tao.cmd_real('python bunch1 1@0>>8|model 1 x')\n",
    "pxdat = tao.cmd_real('python bunch1 1@0>>8|model 1 px')\n",
    "ydat = tao.cmd_real('python bunch1 1@0>>8|model 1 y')\n",
    "pydat = tao.cmd_real('python bunch1 1@0>>8|model 1 py')\n",
    "zdat = tao.cmd_real('python bunch1 1@0>>8|model 1 z')\n",
    "pzdat = tao.cmd_real('python bunch1 1@0>>8|model 1 pz')\n",
    "chargedat = tao.cmd_real('python bunch1 1@0>>8|model 1 charge')\n",
    "p0cdat = tao.cmd_real('python bunch1 1@0>>8|model 1 p0c')\n",
    "state = tao.cmd_integer('python bunch1 1@0>>8|model 1 state') # integers\n",
    "# Unique p0C (eV), charge (pC)\n",
    "set(p0cdat), sum(chargedat)*1e12"
   ]
  },
  {
   "cell_type": "markdown",
   "metadata": {},
   "source": [
    "# Plot in matplotlib"
   ]
  },
  {
   "cell_type": "code",
   "execution_count": 8,
   "metadata": {},
   "outputs": [],
   "source": [
    "import matplotlib.pyplot as plt\n",
    "%matplotlib inline"
   ]
  },
  {
   "cell_type": "code",
   "execution_count": 9,
   "metadata": {},
   "outputs": [],
   "source": [
    "xdata = 1000*xdat\n",
    "ydata = 1000*pxdat\n",
    "weights = chargedat"
   ]
  },
  {
   "cell_type": "code",
   "execution_count": 10,
   "metadata": {},
   "outputs": [
    {
     "name": "stderr",
     "output_type": "stream",
     "text": [
      "<ipython-input-10-f132ec161d0d>:4: MatplotlibDeprecationWarning: You are modifying the state of a globally registered colormap. In future versions, you will not be able to modify a registered colormap in-place. To remove this warning, you can make a copy of the colormap first. cmap = copy.copy(mpl.cm.get_cmap(\"plasma\"))\n",
      "  mycmap.set_under(color='white') # map 0 to this color\n"
     ]
    },
    {
     "data": {
      "image/png": "[encoded data removed]",
      "text/plain": [
       "<Figure size 432x288 with 1 Axes>"
      ]
     },
     "metadata": {
      "needs_background": "light"
     },
     "output_type": "display_data"
    }
   ],
   "source": [
    "# hist2d\n",
    "\n",
    "mycmap = plt.get_cmap('plasma') # viridis plasma inferno magma and _r versions\n",
    "mycmap.set_under(color='white') # map 0 to this color\n",
    "myvmin = 1e-30 # something tiny\n",
    "# Bin particles\n",
    "plt.hist2d(x=1000*xdata, y=ydata,  bins=2*[40], weights=weights, cmap=mycmap, vmin=myvmin)\n",
    "plt.xlabel('x (mm)')\n",
    "plt.ylabel('px (mrad)')\n",
    "plt.show()"
   ]
  },
  {
   "cell_type": "code",
   "execution_count": 11,
   "metadata": {},
   "outputs": [
    {
     "name": "stderr",
     "output_type": "stream",
     "text": [
      "<ipython-input-11-c708a1fc0fc3>:6: MatplotlibDeprecationWarning: You are modifying the state of a globally registered colormap. In future versions, you will not be able to modify a registered colormap in-place. To remove this warning, you can make a copy of the colormap first. cmap = copy.copy(mpl.cm.get_cmap(\"viridis\"))\n",
      "  mycmap.set_under(color='white') # map 0 to this color\n"
     ]
    },
    {
     "data": {
      "text/plain": [
       "<matplotlib.image.AxesImage at 0x7fe67448dc40>"
      ]
     },
     "execution_count": 11,
     "metadata": {},
     "output_type": "execute_result"
    },
    {
     "data": {
      "image/png": "[encoded data removed]",
      "text/plain": [
       "<Figure size 432x288 with 1 Axes>"
      ]
     },
     "metadata": {
      "needs_background": "light"
     },
     "output_type": "display_data"
    }
   ],
   "source": [
    "# Numpy histogram 2d, with custom color map\n",
    "\n",
    "import matplotlib.colors as colors\n",
    "\n",
    "mycmap = plt.get_cmap('viridis') # viridis plasma inferno magma and _r versions\n",
    "mycmap.set_under(color='white') # map 0 to this color\n",
    "H, xedges, yedges = np.histogram2d(xdata, ydata, weights=chargedat, bins=40)\n",
    "\n",
    "xmin, xmax = min(xedges), max(xedges)\n",
    "ymin, ymax = min(yedges), max(yedges)\n",
    "\n",
    "image = np.flip(H.T, axis=0) # \n",
    "imax = np.max(image)\n",
    "norm=colors.Normalize(vmin=1e-12*imax, vmax=imax)\n",
    "plt.xlabel('x (mm)')\n",
    "plt.ylabel('px (mrad)')\n",
    "plt.imshow(image, cmap=mycmap, norm=norm, extent=[xmin, xmax, ymin, ymax], aspect='auto')"
   ]
  },
  {
   "cell_type": "code",
   "execution_count": 12,
   "metadata": {},
   "outputs": [
    {
     "data": {
      "text/plain": [
       "(0.0, 8.469999999999999e-13)"
      ]
     },
     "execution_count": 12,
     "metadata": {},
     "output_type": "execute_result"
    }
   ],
   "source": [
    "np.min(image), np.max(image)"
   ]
  },
  {
   "cell_type": "markdown",
   "metadata": {},
   "source": [
    "# Plot in Bokeh"
   ]
  },
  {
   "cell_type": "code",
   "execution_count": 13,
   "metadata": {},
   "outputs": [
    {
     "data": {
      "application/javascript": [
       "\n",
       "(function(root) {\n",
       "  function now() {\n",
       "    return new Date();\n",
       "  }\n",
       "\n",
       "  var force = true;\n",
       "\n",
       "  if (typeof root._bokeh_onload_callbacks === \"undefined\" || force === true) {\n",
       "    root._bokeh_onload_callbacks = [];\n",
       "    root._bokeh_is_loading = undefined;\n",
       "  }\n",
       "\n",
       "  var JS_MIME_TYPE = 'application/javascript';\n",
       "  var HTML_MIME_TYPE = 'text/html';\n",
       "  var EXEC_MIME_TYPE = 'application/vnd.bokehjs_exec.v0+json';\n",
       "  var CLASS_NAME = 'output_bokeh rendered_html';\n",
       "\n",
       "  /**\n",
       "   * Render data to the DOM node\n",
       "   */\n",
       "  function render(props, node) {\n",
       "    var script = document.createElement(\"script\");\n",
       "    node.appendChild(script);\n",
       "  }\n",
       "\n",
       "  /**\n",
       "   * Handle when an output is cleared or removed\n",
       "   */\n",
       "  function handleClearOutput(event, handle) {\n",
       "    var cell = handle.cell;\n",
       "\n",
       "    var id = cell.output_area._bokeh_element_id;\n",
       "    var server_id = cell.output_area._bokeh_server_id;\n",
       "    // Clean up Bokeh references\n",
       "    if (id != null && id in Bokeh.index) {\n",
       "      Bokeh.index[id].model.document.clear();\n",
       "      delete Bokeh.index[id];\n",
       "    }\n",
       "\n",
       "    if (server_id !== undefined) {\n",
       "      // Clean up Bokeh references\n",
       "      var cmd = \"from bokeh.io.state import curstate; print(curstate().uuid_to_server['\" + server_id + \"'].get_sessions()[0].document.roots[0]._id)\";\n",
       "      cell.notebook.kernel.execute(cmd, {\n",
       "        iopub: {\n",
       "          output: function(msg) {\n",
       "            var id = msg.content.text.trim();\n",
       "            if (id in Bokeh.index) {\n",
       "              Bokeh.index[id].model.document.clear();\n",
       "              delete Bokeh.index[id];\n",
       "            }\n",
       "          }\n",
       "        }\n",
       "      });\n",
       "      // Destroy server and session\n",
       "      var cmd = \"import bokeh.io.notebook as ion; ion.destroy_server('\" + server_id + \"')\";\n",
       "      cell.notebook.kernel.execute(cmd);\n",
       "    }\n",
       "  }\n",
       "\n",
       "  /**\n",
       "   * Handle when a new output is added\n",
       "   */\n",
       "  function handleAddOutput(event, handle) {\n",
       "    var output_area = handle.output_area;\n",
       "    var output = handle.output;\n",
       "\n",
       "    // limit handleAddOutput to display_data with EXEC_MIME_TYPE content only\n",
       "    if ((output.output_type != \"display_data\") || (!output.data.hasOwnProperty(EXEC_MIME_TYPE))) {\n",
       "      return\n",
       "    }\n",
       "\n",
       "    var toinsert = output_area.element.find(\".\" + CLASS_NAME.split(' ')[0]);\n",
       "\n",
       "    if (output.metadata[EXEC_MIME_TYPE][\"id\"] !== undefined) {\n",
       "      toinsert[toinsert.length - 1].firstChild.textContent = output.data[JS_MIME_TYPE];\n",
       "      // store reference to embed id on output_area\n",
       "      output_area._bokeh_element_id = output.metadata[EXEC_MIME_TYPE][\"id\"];\n",
       "    }\n",
       "    if (output.metadata[EXEC_MIME_TYPE][\"server_id\"] !== undefined) {\n",
       "      var bk_div = document.createElement(\"div\");\n",
       "      bk_div.innerHTML = output.data[HTML_MIME_TYPE];\n",
       "      var script_attrs = bk_div.children[0].attributes;\n",
       "      for (var i = 0; i < script_attrs.length; i++) {\n",
       "        toinsert[toinsert.length - 1].firstChild.setAttribute(script_attrs[i].name, script_attrs[i].value);\n",
       "        toinsert[toinsert.length - 1].firstChild.textContent = bk_div.children[0].textContent\n",
       "      }\n",
       "      // store reference to server id on output_area\n",
       "      output_area._bokeh_server_id = output.metadata[EXEC_MIME_TYPE][\"server_id\"];\n",
       "    }\n",
       "  }\n",
       "\n",
       "  function register_renderer(events, OutputArea) {\n",
       "\n",
       "    function append_mime(data, metadata, element) {\n",
       "      // create a DOM node to render to\n",
       "      var toinsert = this.create_output_subarea(\n",
       "        metadata,\n",
       "        CLASS_NAME,\n",
       "        EXEC_MIME_TYPE\n",
       "      );\n",
       "      this.keyboard_manager.register_events(toinsert);\n",
       "      // Render to node\n",
       "      var props = {data: data, metadata: metadata[EXEC_MIME_TYPE]};\n",
       "      render(props, toinsert[toinsert.length - 1]);\n",
       "      element.append(toinsert);\n",
       "      return toinsert\n",
       "    }\n",
       "\n",
       "    /* Handle when an output is cleared or removed */\n",
       "    events.on('clear_output.CodeCell', handleClearOutput);\n",
       "    events.on('delete.Cell', handleClearOutput);\n",
       "\n",
       "    /* Handle when a new output is added */\n",
       "    events.on('output_added.OutputArea', handleAddOutput);\n",
       "\n",
       "    /**\n",
       "     * Register the mime type and append_mime function with output_area\n",
       "     */\n",
       "    OutputArea.prototype.register_mime_type(EXEC_MIME_TYPE, append_mime, {\n",
       "      /* Is output safe? */\n",
       "      safe: true,\n",
       "      /* Index of renderer in `output_area.display_order` */\n",
       "      index: 0\n",
       "    });\n",
       "  }\n",
       "\n",
       "  // register the mime type if in Jupyter Notebook environment and previously unregistered\n",
       "  if (root.Jupyter !== undefined) {\n",
       "    var events = require('base/js/events');\n",
       "    var OutputArea = require('notebook/js/outputarea').OutputArea;\n",
       "\n",
       "    if (OutputArea.prototype.mime_types().indexOf(EXEC_MIME_TYPE) == -1) {\n",
       "      register_renderer(events, OutputArea);\n",
       "    }\n",
       "  }\n",
       "\n",
       "  \n",
       "  if (typeof (root._bokeh_timeout) === \"undefined\" || force === true) {\n",
       "    root._bokeh_timeout = Date.now() + 5000;\n",
       "    root._bokeh_failed_load = false;\n",
       "  }\n",
       "\n",
       "  var NB_LOAD_WARNING = {'data': {'text/html':\n",
       "     \"<div style='background-color: #fdd'>\\n\"+\n",
       "     \"<p>\\n\"+\n",
       "     \"BokehJS does not appear to have successfully loaded. If loading BokehJS from CDN, this \\n\"+\n",
       "     \"may be due to a slow or bad network connection. Possible fixes:\\n\"+\n",
       "     \"</p>\\n\"+\n",
       "     \"<ul>\\n\"+\n",
       "     \"<li>re-rerun `output_notebook()` to attempt to load from CDN again, or</li>\\n\"+\n",
       "     \"<li>use INLINE resources instead, as so:</li>\\n\"+\n",
       "     \"</ul>\\n\"+\n",
       "     \"<code>\\n\"+\n",
       "     \"from bokeh.resources import INLINE\\n\"+\n",
       "     \"output_notebook(resources=INLINE)\\n\"+\n",
       "     \"</code>\\n\"+\n",
       "     \"</div>\"}};\n",
       "\n",
       "  function display_loaded() {\n",
       "    var el = document.getElementById(null);\n",
       "    if (el != null) {\n",
       "      el.textContent = \"BokehJS is loading...\";\n",
       "    }\n",
       "    if (root.Bokeh !== undefined) {\n",
       "      if (el != null) {\n",
       "        el.textContent = \"BokehJS \" + root.Bokeh.version + \" successfully loaded.\";\n",
       "      }\n",
       "    } else if (Date.now() < root._bokeh_timeout) {\n",
       "      setTimeout(display_loaded, 100)\n",
       "    }\n",
       "  }\n",
       "\n",
       "\n",
       "  function run_callbacks() {\n",
       "    try {\n",
       "      root._bokeh_onload_callbacks.forEach(function(callback) {\n",
       "        if (callback != null)\n",
       "          callback();\n",
       "      });\n",
       "    } finally {\n",
       "      delete root._bokeh_onload_callbacks\n",
       "    }\n",
       "    console.debug(\"Bokeh: all callbacks have finished\");\n",
       "  }\n",
       "\n",
       "  function load_libs(css_urls, js_urls, callback) {\n",
       "    if (css_urls == null) css_urls = [];\n",
       "    if (js_urls == null) js_urls = [];\n",
       "\n",
       "    root._bokeh_onload_callbacks.push(callback);\n",
       "    if (root._bokeh_is_loading > 0) {\n",
       "      console.debug(\"Bokeh: BokehJS is being loaded, scheduling callback at\", now());\n",
       "      return null;\n",
       "    }\n",
       "    if (js_urls == null || js_urls.length === 0) {\n",
       "      run_callbacks();\n",
       "      return null;\n",
       "    }\n",
       "    console.debug(\"Bokeh: BokehJS not loaded, scheduling load and callback at\", now());\n",
       "    root._bokeh_is_loading = css_urls.length + js_urls.length;\n",
       "\n",
       "    function on_load() {\n",
       "      root._bokeh_is_loading--;\n",
       "      if (root._bokeh_is_loading === 0) {\n",
       "        console.debug(\"Bokeh: all BokehJS libraries/stylesheets loaded\");\n",
       "        run_callbacks()\n",
       "      }\n",
       "    }\n",
       "\n",
       "    function on_error() {\n",
       "      console.error(\"failed to load \" + url);\n",
       "    }\n",
       "\n",
       "    for (var i = 0; i < css_urls.length; i++) {\n",
       "      var url = css_urls[i];\n",
       "      const element = document.createElement(\"link\");\n",
       "      element.onload = on_load;\n",
       "      element.onerror = on_error;\n",
       "      element.rel = \"stylesheet\";\n",
       "      element.type = \"text/css\";\n",
       "      element.href = url;\n",
       "      console.debug(\"Bokeh: injecting link tag for BokehJS stylesheet: \", url);\n",
       "      document.body.appendChild(element);\n",
       "    }\n",
       "\n",
       "    const hashes = {\"https://cdn.bokeh.org/bokeh/release/bokeh-2.2.1.min.js\": \"qkRvDQVAIfzsJo40iRBbxt6sttt0hv4lh74DG7OK4MCHv4C5oohXYoHUM5W11uqS\", \"https://cdn.bokeh.org/bokeh/release/bokeh-widgets-2.2.1.min.js\": \"Sb7Mr06a9TNlet/GEBeKaf5xH3eb6AlCzwjtU82wNPyDrnfoiVl26qnvlKjmcAd+\", \"https://cdn.bokeh.org/bokeh/release/bokeh-tables-2.2.1.min.js\": \"HaJ15vgfmcfRtB4c4YBOI4f1MUujukqInOWVqZJZZGK7Q+ivud0OKGSTn/Vm2iso\"};\n",
       "\n",
       "    for (var i = 0; i < js_urls.length; i++) {\n",
       "      var url = js_urls[i];\n",
       "      var element = document.createElement('script');\n",
       "      element.onload = on_load;\n",
       "      element.onerror = on_error;\n",
       "      element.async = false;\n",
       "      element.src = url;\n",
       "      if (url in hashes) {\n",
       "        element.crossOrigin = \"anonymous\";\n",
       "        element.integrity = \"sha384-\" + hashes[url];\n",
       "      }\n",
       "      console.debug(\"Bokeh: injecting script tag for BokehJS library: \", url);\n",
       "      document.head.appendChild(element);\n",
       "    }\n",
       "  };\n",
       "\n",
       "  function inject_raw_css(css) {\n",
       "    const element = document.createElement(\"style\");\n",
       "    element.appendChild(document.createTextNode(css));\n",
       "    document.body.appendChild(element);\n",
       "  }\n",
       "\n",
       "  \n",
       "  var js_urls = [\"https://cdn.bokeh.org/bokeh/release/bokeh-2.2.1.min.js\", \"https://cdn.bokeh.org/bokeh/release/bokeh-widgets-2.2.1.min.js\", \"https://cdn.bokeh.org/bokeh/release/bokeh-tables-2.2.1.min.js\"];\n",
       "  var css_urls = [];\n",
       "  \n",
       "\n",
       "  var inline_js = [\n",
       "    function(Bokeh) {\n",
       "      Bokeh.set_log_level(\"info\");\n",
       "    },\n",
       "    function(Bokeh) {\n",
       "    \n",
       "    \n",
       "    }\n",
       "  ];\n",
       "\n",
       "  function run_inline_js() {\n",
       "    \n",
       "    if (root.Bokeh !== undefined || force === true) {\n",
       "      \n",
       "    for (var i = 0; i < inline_js.length; i++) {\n",
       "      inline_js[i].call(root, root.Bokeh);\n",
       "    }\n",
       "    } else if (Date.now() < root._bokeh_timeout) {\n",
       "      setTimeout(run_inline_js, 100);\n",
       "    } else if (!root._bokeh_failed_load) {\n",
       "      console.log(\"Bokeh: BokehJS failed to load within specified timeout.\");\n",
       "      root._bokeh_failed_load = true;\n",
       "    } else if (force !== true) {\n",
       "      var cell = $(document.getElementById(null)).parents('.cell').data().cell;\n",
       "      cell.output_area.append_execute_result(NB_LOAD_WARNING)\n",
       "    }\n",
       "\n",
       "  }\n",
       "\n",
       "  if (root._bokeh_is_loading === 0) {\n",
       "    console.debug(\"Bokeh: BokehJS loaded, going straight to plotting\");\n",
       "    run_inline_js();\n",
       "  } else {\n",
       "    load_libs(css_urls, js_urls, function() {\n",
       "      console.debug(\"Bokeh: BokehJS plotting callback run at\", now());\n",
       "      run_inline_js();\n",
       "    });\n",
       "  }\n",
       "}(window));"
      ],
      "application/vnd.bokehjs_load.v0+json": "\n(function(root) {\n  function now() {\n    return new Date();\n  }\n\n  var force = true;\n\n  if (typeof root._bokeh_onload_callbacks === \"undefined\" || force === true) {\n    root._bokeh_onload_callbacks = [];\n    root._bokeh_is_loading = undefined;\n  }\n\n  \n\n  \n  if (typeof (root._bokeh_timeout) === \"undefined\" || force === true) {\n    root._bokeh_timeout = Date.now() + 5000;\n    root._bokeh_failed_load = false;\n  }\n\n  var NB_LOAD_WARNING = {'data': {'text/html':\n     \"<div style='background-color: #fdd'>\\n\"+\n     \"<p>\\n\"+\n     \"BokehJS does not appear to have successfully loaded. If loading BokehJS from CDN, this \\n\"+\n     \"may be due to a slow or bad network connection. Possible fixes:\\n\"+\n     \"</p>\\n\"+\n     \"<ul>\\n\"+\n     \"<li>re-rerun `output_notebook()` to attempt to load from CDN again, or</li>\\n\"+\n     \"<li>use INLINE resources instead, as so:</li>\\n\"+\n     \"</ul>\\n\"+\n     \"<code>\\n\"+\n     \"from bokeh.resources import INLINE\\n\"+\n     \"output_notebook(resources=INLINE)\\n\"+\n     \"</code>\\n\"+\n     \"</div>\"}};\n\n  function display_loaded() {\n    var el = document.getElementById(null);\n    if (el != null) {\n      el.textContent = \"BokehJS is loading...\";\n    }\n    if (root.Bokeh !== undefined) {\n      if (el != null) {\n        el.textContent = \"BokehJS \" + root.Bokeh.version + \" successfully loaded.\";\n      }\n    } else if (Date.now() < root._bokeh_timeout) {\n      setTimeout(display_loaded, 100)\n    }\n  }\n\n\n  function run_callbacks() {\n    try {\n      root._bokeh_onload_callbacks.forEach(function(callback) {\n        if (callback != null)\n          callback();\n      });\n    } finally {\n      delete root._bokeh_onload_callbacks\n    }\n    console.debug(\"Bokeh: all callbacks have finished\");\n  }\n\n  function load_libs(css_urls, js_urls, callback) {\n    if (css_urls == null) css_urls = [];\n    if (js_urls == null) js_urls = [];\n\n    root._bokeh_onload_callbacks.push(callback);\n    if (root._bokeh_is_loading > 0) {\n      console.debug(\"Bokeh: BokehJS is being loaded, scheduling callback at\", now());\n      return null;\n    }\n    if (js_urls == null || js_urls.length === 0) {\n      run_callbacks();\n      return null;\n    }\n    console.debug(\"Bokeh: BokehJS not loaded, scheduling load and callback at\", now());\n    root._bokeh_is_loading = css_urls.length + js_urls.length;\n\n    function on_load() {\n      root._bokeh_is_loading--;\n      if (root._bokeh_is_loading === 0) {\n        console.debug(\"Bokeh: all BokehJS libraries/stylesheets loaded\");\n        run_callbacks()\n      }\n    }\n\n    function on_error() {\n      console.error(\"failed to load \" + url);\n    }\n\n    for (var i = 0; i < css_urls.length; i++) {\n      var url = css_urls[i];\n      const element = document.createElement(\"link\");\n      element.onload = on_load;\n      element.onerror = on_error;\n      element.rel = \"stylesheet\";\n      element.type = \"text/css\";\n      element.href = url;\n      console.debug(\"Bokeh: injecting link tag for BokehJS stylesheet: \", url);\n      document.body.appendChild(element);\n    }\n\n    const hashes = {\"https://cdn.bokeh.org/bokeh/release/bokeh-2.2.1.min.js\": \"qkRvDQVAIfzsJo40iRBbxt6sttt0hv4lh74DG7OK4MCHv4C5oohXYoHUM5W11uqS\", \"https://cdn.bokeh.org/bokeh/release/bokeh-widgets-2.2.1.min.js\": \"Sb7Mr06a9TNlet/GEBeKaf5xH3eb6AlCzwjtU82wNPyDrnfoiVl26qnvlKjmcAd+\", \"https://cdn.bokeh.org/bokeh/release/bokeh-tables-2.2.1.min.js\": \"HaJ15vgfmcfRtB4c4YBOI4f1MUujukqInOWVqZJZZGK7Q+ivud0OKGSTn/Vm2iso\"};\n\n    for (var i = 0; i < js_urls.length; i++) {\n      var url = js_urls[i];\n      var element = document.createElement('script');\n      element.onload = on_load;\n      element.onerror = on_error;\n      element.async = false;\n      element.src = url;\n      if (url in hashes) {\n        element.crossOrigin = \"anonymous\";\n        element.integrity = \"sha384-\" + hashes[url];\n      }\n      console.debug(\"Bokeh: injecting script tag for BokehJS library: \", url);\n      document.head.appendChild(element);\n    }\n  };\n\n  function inject_raw_css(css) {\n    const element = document.createElement(\"style\");\n    element.appendChild(document.createTextNode(css));\n    document.body.appendChild(element);\n  }\n\n  \n  var js_urls = [\"https://cdn.bokeh.org/bokeh/release/bokeh-2.2.1.min.js\", \"https://cdn.bokeh.org/bokeh/release/bokeh-widgets-2.2.1.min.js\", \"https://cdn.bokeh.org/bokeh/release/bokeh-tables-2.2.1.min.js\"];\n  var css_urls = [];\n  \n\n  var inline_js = [\n    function(Bokeh) {\n      Bokeh.set_log_level(\"info\");\n    },\n    function(Bokeh) {\n    \n    \n    }\n  ];\n\n  function run_inline_js() {\n    \n    if (root.Bokeh !== undefined || force === true) {\n      \n    for (var i = 0; i < inline_js.length; i++) {\n      inline_js[i].call(root, root.Bokeh);\n    }\n    } else if (Date.now() < root._bokeh_timeout) {\n      setTimeout(run_inline_js, 100);\n    } else if (!root._bokeh_failed_load) {\n      console.log(\"Bokeh: BokehJS failed to load within specified timeout.\");\n      root._bokeh_failed_load = true;\n    } else if (force !== true) {\n      var cell = $(document.getElementById(null)).parents('.cell').data().cell;\n      cell.output_area.append_execute_result(NB_LOAD_WARNING)\n    }\n\n  }\n\n  if (root._bokeh_is_loading === 0) {\n    console.debug(\"Bokeh: BokehJS loaded, going straight to plotting\");\n    run_inline_js();\n  } else {\n    load_libs(css_urls, js_urls, function() {\n      console.debug(\"Bokeh: BokehJS plotting callback run at\", now());\n      run_inline_js();\n    });\n  }\n}(window));"
     },
     "metadata": {},
     "output_type": "display_data"
    }
   ],
   "source": [
    "from bokeh.plotting import figure, show, output_notebook\n",
    "from bokeh import palettes, colors\n",
    "from bokeh.models import ColumnDataSource, HoverTool\n",
    "output_notebook(verbose=False, hide_banner=True)\n",
    "\n",
    "pal = palettes.Viridis[256]\n",
    "#white=colors.named.white\n",
    "#pal[0] = white # replace 0 with white"
   ]
  },
  {
   "cell_type": "code",
   "execution_count": 14,
   "metadata": {},
   "outputs": [],
   "source": [
    "H, xedges, yedges = np.histogram2d(xdata, ydata, weights=chargedat, bins=40)\n",
    "xmin, xmax = min(xedges), max(xedges)\n",
    "ymin, ymax = min(yedges), max(yedges)"
   ]
  },
  {
   "cell_type": "code",
   "execution_count": 15,
   "metadata": {},
   "outputs": [
    {
     "data": {
      "text/html": [
       "\n",
       "\n",
       "\n",
       "\n",
       "\n",
       "\n",
       "  <div class=\"bk-root\" id=\"86457ba4-0c43-452b-bfc8-de6332233568\" data-root-id=\"1002\"></div>\n"
      ]
     },
     "metadata": {},
     "output_type": "display_data"
    },
    {
     "data": {
      "application/javascript": [
       "(function(root) {\n",
       "  function embed_document(root) {\n",
       "    \n",
       "  var docs_json = {\"5233de8b-1c7f-4332-bd3d-615ac4d08ad6\":{\"roots\":{\"references\":[{\"attributes\":{\"below\":[{\"id\":\"1013\"}],\"center\":[{\"id\":\"1016\"},{\"id\":\"1020\"}],\"left\":[{\"id\":\"1017\"}],\"plot_height\":500,\"plot_width\":500,\"renderers\":[{\"id\":\"1040\"}],\"title\":{\"id\":\"1003\"},\"toolbar\":{\"id\":\"1028\"},\"x_range\":{\"id\":\"1005\"},\"x_scale\":{\"id\":\"1009\"},\"y_range\":{\"id\":\"1007\"},\"y_scale\":{\"id\":\"1011\"}},\"id\":\"1002\",\"subtype\":\"Figure\",\"type\":\"Plot\"},{\"attributes\":{\"text\":\"Bunch at end\"},\"id\":\"1003\",\"type\":\"Title\"},{\"attributes\":{},\"id\":\"1025\",\"type\":\"ResetTool\"},{\"attributes\":{\"axis_label\":\"z (mm)\",\"formatter\":{\"id\":\"1044\"},\"ticker\":{\"id\":\"1014\"}},\"id\":\"1013\",\"type\":\"LinearAxis\"},{\"attributes\":{\"palette\":[\"#440154\",\"#440255\",\"#440357\",\"#450558\",\"#45065A\",\"#45085B\",\"#46095C\",\"#460B5E\",\"#460C5F\",\"#460E61\",\"#470F62\",\"#471163\",\"#471265\",\"#471466\",\"#471567\",\"#471669\",\"#47186A\",\"#48196B\",\"#481A6C\",\"#481C6E\",\"#481D6F\",\"#481E70\",\"#482071\",\"#482172\",\"#482273\",\"#482374\",\"#472575\",\"#472676\",\"#472777\",\"#472878\",\"#472A79\",\"#472B7A\",\"#472C7B\",\"#462D7C\",\"#462F7C\",\"#46307D\",\"#46317E\",\"#45327F\",\"#45347F\",\"#453580\",\"#453681\",\"#443781\",\"#443982\",\"#433A83\",\"#433B83\",\"#433C84\",\"#423D84\",\"#423E85\",\"#424085\",\"#414186\",\"#414286\",\"#404387\",\"#404487\",\"#3F4587\",\"#3F4788\",\"#3E4888\",\"#3E4989\",\"#3D4A89\",\"#3D4B89\",\"#3D4C89\",\"#3C4D8A\",\"#3C4E8A\",\"#3B508A\",\"#3B518A\",\"#3A528B\",\"#3A538B\",\"#39548B\",\"#39558B\",\"#38568B\",\"#38578C\",\"#37588C\",\"#37598C\",\"#365A8C\",\"#365B8C\",\"#355C8C\",\"#355D8C\",\"#345E8D\",\"#345F8D\",\"#33608D\",\"#33618D\",\"#32628D\",\"#32638D\",\"#31648D\",\"#31658D\",\"#31668D\",\"#30678D\",\"#30688D\",\"#2F698D\",\"#2F6A8D\",\"#2E6B8E\",\"#2E6C8E\",\"#2E6D8E\",\"#2D6E8E\",\"#2D6F8E\",\"#2C708E\",\"#2C718E\",\"#2C728E\",\"#2B738E\",\"#2B748E\",\"#2A758E\",\"#2A768E\",\"#2A778E\",\"#29788E\",\"#29798E\",\"#287A8E\",\"#287A8E\",\"#287B8E\",\"#277C8E\",\"#277D8E\",\"#277E8E\",\"#267F8E\",\"#26808E\",\"#26818E\",\"#25828E\",\"#25838D\",\"#24848D\",\"#24858D\",\"#24868D\",\"#23878D\",\"#23888D\",\"#23898D\",\"#22898D\",\"#228A8D\",\"#228B8D\",\"#218C8D\",\"#218D8C\",\"#218E8C\",\"#208F8C\",\"#20908C\",\"#20918C\",\"#1F928C\",\"#1F938B\",\"#1F948B\",\"#1F958B\",\"#1F968B\",\"#1E978A\",\"#1E988A\",\"#1E998A\",\"#1E998A\",\"#1E9A89\",\"#1E9B89\",\"#1E9C89\",\"#1E9D88\",\"#1E9E88\",\"#1E9F88\",\"#1EA087\",\"#1FA187\",\"#1FA286\",\"#1FA386\",\"#20A485\",\"#20A585\",\"#21A685\",\"#21A784\",\"#22A784\",\"#23A883\",\"#23A982\",\"#24AA82\",\"#25AB81\",\"#26AC81\",\"#27AD80\",\"#28AE7F\",\"#29AF7F\",\"#2AB07E\",\"#2BB17D\",\"#2CB17D\",\"#2EB27C\",\"#2FB37B\",\"#30B47A\",\"#32B57A\",\"#33B679\",\"#35B778\",\"#36B877\",\"#38B976\",\"#39B976\",\"#3BBA75\",\"#3DBB74\",\"#3EBC73\",\"#40BD72\",\"#42BE71\",\"#44BE70\",\"#45BF6F\",\"#47C06E\",\"#49C16D\",\"#4BC26C\",\"#4DC26B\",\"#4FC369\",\"#51C468\",\"#53C567\",\"#55C666\",\"#57C665\",\"#59C764\",\"#5BC862\",\"#5EC961\",\"#60C960\",\"#62CA5F\",\"#64CB5D\",\"#67CC5C\",\"#69CC5B\",\"#6BCD59\",\"#6DCE58\",\"#70CE56\",\"#72CF55\",\"#74D054\",\"#77D052\",\"#79D151\",\"#7CD24F\",\"#7ED24E\",\"#81D34C\",\"#83D34B\",\"#86D449\",\"#88D547\",\"#8BD546\",\"#8DD644\",\"#90D643\",\"#92D741\",\"#95D73F\",\"#97D83E\",\"#9AD83C\",\"#9DD93A\",\"#9FD938\",\"#A2DA37\",\"#A5DA35\",\"#A7DB33\",\"#AADB32\",\"#ADDC30\",\"#AFDC2E\",\"#B2DD2C\",\"#B5DD2B\",\"#B7DD29\",\"#BADE27\",\"#BDDE26\",\"#BFDF24\",\"#C2DF22\",\"#C5DF21\",\"#C7E01F\",\"#CAE01E\",\"#CDE01D\",\"#CFE11C\",\"#D2E11B\",\"#D4E11A\",\"#D7E219\",\"#DAE218\",\"#DCE218\",\"#DFE318\",\"#E1E318\",\"#E4E318\",\"#E7E419\",\"#E9E419\",\"#ECE41A\",\"#EEE51B\",\"#F1E51C\",\"#F3E51E\",\"#F6E61F\",\"#F8E621\",\"#FAE622\",\"#FDE724\"]},\"id\":\"1039\",\"type\":\"LinearColorMapper\"},{\"attributes\":{\"color_mapper\":{\"id\":\"1039\"},\"dh\":{\"units\":\"data\",\"value\":2.793174652876961},\"dw\":{\"units\":\"data\",\"value\":0.3657897152551198},\"global_alpha\":0.1,\"image\":{\"field\":\"image\"},\"x\":{\"value\":-0.1907975005876315},\"y\":{\"value\":-1.4600746259000226}},\"id\":\"1038\",\"type\":\"Image\"},{\"attributes\":{\"data_source\":{\"id\":\"1001\"},\"glyph\":{\"id\":\"1036\"},\"hover_glyph\":null,\"muted_glyph\":null,\"nonselection_glyph\":{\"id\":\"1038\"},\"selection_glyph\":null,\"view\":{\"id\":\"1041\"}},\"id\":\"1040\",\"type\":\"GlyphRenderer\"},{\"attributes\":{},\"id\":\"1047\",\"type\":\"UnionRenderers\"},{\"attributes\":{},\"id\":\"1048\",\"type\":\"Selection\"},{\"attributes\":{},\"id\":\"1026\",\"type\":\"HelpTool\"},{\"attributes\":{\"source\":{\"id\":\"1001\"}},\"id\":\"1041\",\"type\":\"CDSView\"},{\"attributes\":{},\"id\":\"1011\",\"type\":\"LinearScale\"},{\"attributes\":{\"overlay\":{\"id\":\"1027\"}},\"id\":\"1023\",\"type\":\"BoxZoomTool\"},{\"attributes\":{\"bottom_units\":\"screen\",\"fill_alpha\":0.5,\"fill_color\":\"lightgrey\",\"left_units\":\"screen\",\"level\":\"overlay\",\"line_alpha\":1.0,\"line_color\":\"black\",\"line_dash\":[4,4],\"line_width\":2,\"right_units\":\"screen\",\"top_units\":\"screen\"},\"id\":\"1027\",\"type\":\"BoxAnnotation\"},{\"attributes\":{\"axis_label\":\"pz (1e-3)\",\"formatter\":{\"id\":\"1046\"},\"ticker\":{\"id\":\"1018\"}},\"id\":\"1017\",\"type\":\"LinearAxis\"},{\"attributes\":{},\"id\":\"1024\",\"type\":\"SaveTool\"},{\"attributes\":{\"axis\":{\"id\":\"1013\"},\"ticker\":null},\"id\":\"1016\",\"type\":\"Grid\"},{\"attributes\":{},\"id\":\"1044\",\"type\":\"BasicTickFormatter\"},{\"attributes\":{},\"id\":\"1022\",\"type\":\"WheelZoomTool\"},{\"attributes\":{},\"id\":\"1046\",\"type\":\"BasicTickFormatter\"},{\"attributes\":{\"palette\":[\"#440154\",\"#440255\",\"#440357\",\"#450558\",\"#45065A\",\"#45085B\",\"#46095C\",\"#460B5E\",\"#460C5F\",\"#460E61\",\"#470F62\",\"#471163\",\"#471265\",\"#471466\",\"#471567\",\"#471669\",\"#47186A\",\"#48196B\",\"#481A6C\",\"#481C6E\",\"#481D6F\",\"#481E70\",\"#482071\",\"#482172\",\"#482273\",\"#482374\",\"#472575\",\"#472676\",\"#472777\",\"#472878\",\"#472A79\",\"#472B7A\",\"#472C7B\",\"#462D7C\",\"#462F7C\",\"#46307D\",\"#46317E\",\"#45327F\",\"#45347F\",\"#453580\",\"#453681\",\"#443781\",\"#443982\",\"#433A83\",\"#433B83\",\"#433C84\",\"#423D84\",\"#423E85\",\"#424085\",\"#414186\",\"#414286\",\"#404387\",\"#404487\",\"#3F4587\",\"#3F4788\",\"#3E4888\",\"#3E4989\",\"#3D4A89\",\"#3D4B89\",\"#3D4C89\",\"#3C4D8A\",\"#3C4E8A\",\"#3B508A\",\"#3B518A\",\"#3A528B\",\"#3A538B\",\"#39548B\",\"#39558B\",\"#38568B\",\"#38578C\",\"#37588C\",\"#37598C\",\"#365A8C\",\"#365B8C\",\"#355C8C\",\"#355D8C\",\"#345E8D\",\"#345F8D\",\"#33608D\",\"#33618D\",\"#32628D\",\"#32638D\",\"#31648D\",\"#31658D\",\"#31668D\",\"#30678D\",\"#30688D\",\"#2F698D\",\"#2F6A8D\",\"#2E6B8E\",\"#2E6C8E\",\"#2E6D8E\",\"#2D6E8E\",\"#2D6F8E\",\"#2C708E\",\"#2C718E\",\"#2C728E\",\"#2B738E\",\"#2B748E\",\"#2A758E\",\"#2A768E\",\"#2A778E\",\"#29788E\",\"#29798E\",\"#287A8E\",\"#287A8E\",\"#287B8E\",\"#277C8E\",\"#277D8E\",\"#277E8E\",\"#267F8E\",\"#26808E\",\"#26818E\",\"#25828E\",\"#25838D\",\"#24848D\",\"#24858D\",\"#24868D\",\"#23878D\",\"#23888D\",\"#23898D\",\"#22898D\",\"#228A8D\",\"#228B8D\",\"#218C8D\",\"#218D8C\",\"#218E8C\",\"#208F8C\",\"#20908C\",\"#20918C\",\"#1F928C\",\"#1F938B\",\"#1F948B\",\"#1F958B\",\"#1F968B\",\"#1E978A\",\"#1E988A\",\"#1E998A\",\"#1E998A\",\"#1E9A89\",\"#1E9B89\",\"#1E9C89\",\"#1E9D88\",\"#1E9E88\",\"#1E9F88\",\"#1EA087\",\"#1FA187\",\"#1FA286\",\"#1FA386\",\"#20A485\",\"#20A585\",\"#21A685\",\"#21A784\",\"#22A784\",\"#23A883\",\"#23A982\",\"#24AA82\",\"#25AB81\",\"#26AC81\",\"#27AD80\",\"#28AE7F\",\"#29AF7F\",\"#2AB07E\",\"#2BB17D\",\"#2CB17D\",\"#2EB27C\",\"#2FB37B\",\"#30B47A\",\"#32B57A\",\"#33B679\",\"#35B778\",\"#36B877\",\"#38B976\",\"#39B976\",\"#3BBA75\",\"#3DBB74\",\"#3EBC73\",\"#40BD72\",\"#42BE71\",\"#44BE70\",\"#45BF6F\",\"#47C06E\",\"#49C16D\",\"#4BC26C\",\"#4DC26B\",\"#4FC369\",\"#51C468\",\"#53C567\",\"#55C666\",\"#57C665\",\"#59C764\",\"#5BC862\",\"#5EC961\",\"#60C960\",\"#62CA5F\",\"#64CB5D\",\"#67CC5C\",\"#69CC5B\",\"#6BCD59\",\"#6DCE58\",\"#70CE56\",\"#72CF55\",\"#74D054\",\"#77D052\",\"#79D151\",\"#7CD24F\",\"#7ED24E\",\"#81D34C\",\"#83D34B\",\"#86D449\",\"#88D547\",\"#8BD546\",\"#8DD644\",\"#90D643\",\"#92D741\",\"#95D73F\",\"#97D83E\",\"#9AD83C\",\"#9DD93A\",\"#9FD938\",\"#A2DA37\",\"#A5DA35\",\"#A7DB33\",\"#AADB32\",\"#ADDC30\",\"#AFDC2E\",\"#B2DD2C\",\"#B5DD2B\",\"#B7DD29\",\"#BADE27\",\"#BDDE26\",\"#BFDF24\",\"#C2DF22\",\"#C5DF21\",\"#C7E01F\",\"#CAE01E\",\"#CDE01D\",\"#CFE11C\",\"#D2E11B\",\"#D4E11A\",\"#D7E219\",\"#DAE218\",\"#DCE218\",\"#DFE318\",\"#E1E318\",\"#E4E318\",\"#E7E419\",\"#E9E419\",\"#ECE41A\",\"#EEE51B\",\"#F1E51C\",\"#F3E51E\",\"#F6E61F\",\"#F8E621\",\"#FAE622\",\"#FDE724\"]},\"id\":\"1037\",\"type\":\"LinearColorMapper\"},{\"attributes\":{},\"id\":\"1009\",\"type\":\"LinearScale\"},{\"attributes\":{\"end\":1.3331000269769384,\"start\":-1.4600746259000226},\"id\":\"1007\",\"type\":\"Range1d\"},{\"attributes\":{\"data\":{\"image\":[{\"__ndarray__\":\"AAAAAAAAAAAAAAAAAAAAAAAAAAAAAAAAAAAAAAAAAACTUy5Lb6xFPQAAAAAAAAAAAAAAAAAAAAAAAAAAAAAAAAAAAAAAAAAAAAAAAAAAAAAAAAAAAAAAAAAAAAAAAAAAAAAAAAAAAAAAAAAAAAAAAAAAAAAAAAAAAAAAAAAAAAAAAAAAAAAAAAAAAAAAAAAAAAAAAAAAAAAAAAAAAAAAAAAAAAAAAAAAAAAAAAAAAAAAAAAAAAAAAAAAAAAAAAAAAAAAAAAAAAAAAAAAAAAAAAAAAAAAAAAAAAAAAAAAAAAAAAAAAAAAAAAAAAAAAAAAAAAAAAAAAAAAAAAAAAAAAAAAAAAAAAAAAAAAAAAAAAAAAAAAAAAAAAAAAAAAAAAAAAAAAAAAAAAAAAAAAAAAAAAAAAAAAAAAAAAAAAAAAAAAAAAAAAAAAAAAAAAAAAAAAAAAAAAAAACTUy5Lb6w1PQAAAAAAAAAAAAAAAAAAAAAAAAAAAAAAAAAAAAAAAAAAAAAAAAAAAAAAAAAAAAAAAAAAAAAAAAAAAAAAAAAAAAAAAAAAAAAAAAAAAAAAAAAAAAAAAAAAAAAAAAAAAAAAAAAAAAAAAAAAAAAAAAAAAAAAAAAAAAAAAAAAAAAAAAAAAAAAAAAAAAAAAAAAAAAAAAAAAAAAAAAAAAAAAAAAAAAAAAAAAAAAAAAAAAAAAAAAAAAAAAAAAAAAAAAAAAAAAAAAAAAAAAAAAAAAAAAAAAAAAAAAAAAAAAAAAAAAAAAAAAAAAAAAAAAAAAAAAAAAAAAAAAAAAAAAAAAAAAAAAAAAAAAAAAAAAAAAAAAAAAAAAAAAAAAAAAAAAAAAAAAAAJNTLktvrDU9AAAAAAAAAAAAAAAAAAAAAJNTLktvrDU9AAAAAAAAAAAAAAAAAAAAAAAAAAAAAAAAAAAAAAAAAAAAAAAAAAAAAAAAAAAAAAAAAAAAAAAAAAAAAAAAAAAAAAAAAAAAAAAAAAAAAAAAAAAAAAAAAAAAAAAAAAAAAAAAAAAAAAAAAAAAAAAAAAAAAAAAAAAAAAAAAAAAAAAAAAAAAAAAAAAAAAAAAAAAAAAAAAAAAAAAAAAAAAAAAAAAAAAAAAAAAAAAAAAAAAAAAAAAAAAAAAAAAAAAAAAAAAAAAAAAAAAAAAAAAAAAAAAAAAAAAAAAAAAAAAAAAAAAAAAAAAAAAAAAAAAAAAAAAAAAAAAAAAAAAAAAAAAAAAAAAAAAAAAAAAAAAAAAAAAAAAAAAAAAAAAAAAAAAAAAAAAAAAAAAAAAAAAAAAAAAAAAAAAAAAAAAAAAk1MuS2+sNT0AAAAAAAAAAJNTLktvrDU9AAAAAAAAAAAAAAAAAAAAAAAAAAAAAAAAAAAAAAAAAAAAAAAAAAAAAAAAAAAAAAAAAAAAAAAAAAAAAAAAAAAAAAAAAAAAAAAAAAAAAAAAAAAAAAAAAAAAAAAAAAAAAAAAAAAAAAAAAAAAAAAAAAAAAAAAAAAAAAAAAAAAAAAAAAAAAAAAAAAAAAAAAAAAAAAAAAAAAAAAAAAAAAAAAAAAAAAAAAAAAAAAAAAAAAAAAAAAAAAAAAAAAAAAAAAAAAAAAAAAAAAAAAAAAAAAAAAAAAAAAAAAAAAAAAAAAAAAAAAAAAAAAAAAAAAAAAAAAAAAAAAAAAAAAAAAAAAAAAAAAAAAAAAAAAAAAAAAAAAAAAAAAAAAAAAAAAAAAAAAAAAAAAAAAAAAAACTUy5Lb6w1PQAAAAAAAAAAAAAAAAAAAAAAAAAAAAAAAJNTLktvrDU9k1MuS2+sNT2TUy5Lb6w1PQAAAAAAAAAAAAAAAAAAAAAAAAAAAAAAAAAAAAAAAAAAAAAAAAAAAAAAAAAAAAAAAAAAAAAAAAAAAAAAAAAAAAAAAAAAAAAAAAAAAAAAAAAAAAAAAAAAAAAAAAAAAAAAAAAAAAAAAAAAAAAAAAAAAAAAAAAAAAAAAAAAAAAAAAAAAAAAAAAAAAAAAAAAAAAAAAAAAAAAAAAAAAAAAAAAAAAAAAAAAAAAAAAAAAAAAAAAAAAAAAAAAAAAAAAAAAAAAAAAAAAAAAAAAAAAAAAAAAAAAAAAAAAAAAAAAAAAAAAAAAAAAAAAAAAAAAAAAAAAAAAAAAAAAAAAAAAAAAAAAAAAAAAAAAAAAJNTLktvrDU9AAAAAAAAAAAAAAAAAAAAAAAAAAAAAAAAk1MuS2+sNT0AAAAAAAAAAAAAAAAAAAAAk1MuS2+sNT0AAAAAAAAAAJNTLktvrDU9k1MuS2+sNT0AAAAAAAAAAAAAAAAAAAAAAAAAAAAAAAAAAAAAAAAAAAAAAAAAAAAAAAAAAAAAAAAAAAAAAAAAAAAAAAAAAAAAAAAAAAAAAAAAAAAAAAAAAAAAAAAAAAAAAAAAAAAAAAAAAAAAAAAAAAAAAAAAAAAAAAAAAAAAAAAAAAAAAAAAAAAAAAAAAAAAAAAAAAAAAAAAAAAAAAAAAAAAAAAAAAAAAAAAAAAAAAAAAAAAAAAAAAAAAAAAAAAAAAAAAAAAAAAAAAAAAAAAAAAAAAAAAAAAAAAAAAAAAAAAAAAAAAAAAAAAAAAAAAAAAAAAAAAAAAAAAAAAAAAAAJNTLktvrDU9k1MuS2+sNT2TUy5Lb6w1PZNTLktvrDU9AAAAAAAAAACTUy5Lb6w1PQAAAAAAAAAAAAAAAAAAAAAAAAAAAAAAAAAAAAAAAAAAAAAAAAAAAAAAAAAAAAAAAAAAAAAAAAAAAAAAAAAAAAAAAAAAAAAAAAAAAAAAAAAAAAAAAAAAAAAAAAAAAAAAAAAAAAAAAAAAAAAAAAAAAAAAAAAAAAAAAAAAAAAAAAAAAAAAAAAAAAAAAAAAAAAAAAAAAAAAAAAAAAAAAAAAAAAAAAAAAAAAAAAAAAAAAAAAAAAAAAAAAAAAAAAAAAAAAAAAAAAAAAAAAAAAAAAAAAAAAAAAAAAAAAAAAAAAAAAAAAAAAAAAAAAAAAAAAAAAAAAAAAAAAAAAAAAAAAAAAAAAAAAAAAAAAAAAAAAAAAAAAAAAAAAAAACTUy5Lb6w1PZNTLktvrEU9k1MuS2+sNT2TUy5Lb6w1PQAAAAAAAAAAk1MuS2+sNT2uvmJ4U0FQPQAAAAAAAAAAAAAAAAAAAAAAAAAAAAAAAAAAAAAAAAAAAAAAAAAAAAAAAAAAAAAAAAAAAAAAAAAAAAAAAAAAAAAAAAAAAAAAAAAAAAAAAAAAAAAAAAAAAAAAAAAAAAAAAAAAAAAAAAAAAAAAAAAAAAAAAAAAAAAAAAAAAAAAAAAAAAAAAAAAAAAAAAAAAAAAAAAAAAAAAAAAAAAAAAAAAAAAAAAAAAAAAAAAAAAAAAAAAAAAAAAAAAAAAAAAAAAAAAAAAAAAAAAAAAAAAAAAAAAAAAAAAAAAAAAAAAAAAAAAAAAAAAAAAAAAAAAAAAAAAJNTLktvrDU9AAAAAAAAAACTUy5Lb6w1PZNTLktvrEU9k1MuS2+sNT2TUy5Lb6w1PZNTLktvrEU9k1MuS2+sNT2TUy5Lb6xFPQAAAAAAAAAAAAAAAAAAAACTUy5Lb6w1PQAAAAAAAAAAAAAAAAAAAAAAAAAAAAAAAAAAAAAAAAAAAAAAAAAAAAAAAAAAAAAAAAAAAAAAAAAAAAAAAAAAAAAAAAAAAAAAAAAAAAAAAAAAAAAAAAAAAAAAAAAAAAAAAAAAAAAAAAAAAAAAAAAAAAAAAAAAAAAAAAAAAAAAAAAAAAAAAAAAAAAAAAAAAAAAAAAAAAAAAAAAAAAAAAAAAAAAAAAAAAAAAAAAAAAAAAAAAAAAAAAAAAAAAAAAAAAAAAAAAAAAAAAAAAAAAAAAAAAAAAAAAAAAAAAAAAAAAAAAAAAAAAAAAAAAAAAAAAAAAAAAAAAAAAAAAAAAAAAAAACTUy5Lb6w1PZNTLktvrEU9rr5ieFNBUD2TUy5Lb6w1PZNTLktvrDU9k1MuS2+sRT2TUy5Lb6w1PZNTLktvrDU9AAAAAAAAAAAAAAAAAAAAAJNTLktvrDU9AAAAAAAAAAAAAAAAAAAAAAAAAAAAAAAAAAAAAAAAAAAAAAAAAAAAAAAAAAAAAAAAAAAAAAAAAAAAAAAAAAAAAAAAAAAAAAAAAAAAAAAAAAAAAAAAAAAAAAAAAAAAAAAAAAAAAAAAAAAAAAAAAAAAAAAAAAAAAAAAAAAAAAAAAAAAAAAAAAAAAAAAAAAAAAAAAAAAAAAAAAAAAAAAAAAAAAAAAAAAAAAAAAAAAAAAAAAAAAAAAAAAAAAAAAAAAAAAAAAAAAAAAAAAAAAAAAAAAAAAAAAAAAAAAAAAAAAAAACTUy5Lb6w1PZNTLktvrDU9k1MuS2+sRT0AAAAAAAAAAK6+YnhTQVA9rr5ieFNBUD2uvmJ4U0FQPZNTLktvrEU9rr5ieFNBUD2TUy5Lb6w1PQAAAAAAAAAAAAAAAAAAAAAAAAAAAAAAAAAAAAAAAAAAAAAAAAAAAAAAAAAAAAAAAAAAAAAAAAAAAAAAAAAAAAAAAAAAAAAAAAAAAAAAAAAAAAAAAAAAAAAAAAAAAAAAAAAAAAAAAAAAAAAAAAAAAAAAAAAAAAAAAAAAAAAAAAAAAAAAAAAAAAAAAAAAAAAAAAAAAAAAAAAAAAAAAAAAAAAAAAAAAAAAAAAAAAAAAAAAAAAAAAAAAAAAAAAAAAAAAAAAAAAAAAAAAAAAAAAAAAAAAAAAAAAAAAAAAAAAAAAAAAAAAAAAAAAAAAAAAAAAAAAAAAAAAAAArr5ieFNBUD0AAAAAAAAAAJNTLktvrEU9rr5ieFNBUD2TUy5Lb6w1Pa6+YnhTQVA9rr5ieFNBUD2TUy5Lb6xVPQAAAAAAAAAAk1MuS2+sNT2TUy5Lb6xFPQAAAAAAAAAAAAAAAAAAAAAAAAAAAAAAAAAAAAAAAAAAAAAAAAAAAAAAAAAAAAAAAAAAAAAAAAAAAAAAAAAAAAAAAAAAAAAAAAAAAAAAAAAAAAAAAAAAAAAAAAAAAAAAAAAAAAAAAAAAAAAAAAAAAAAAAAAAAAAAAAAAAAAAAAAAAAAAAAAAAAAAAAAAAAAAAAAAAAAAAAAAAAAAAAAAAAAAAAAAAAAAAAAAAAAAAAAAAAAAAAAAAAAAAAAAAAAAAAAAAAAAAAAAAAAAAAAAAAAAAAAAAAAAAJNTLktvrDU9AAAAAAAAAAAAAAAAAAAAAJNTLktvrDU9AAAAAAAAAACTUy5Lb6xFPXjo+R2LF1s9k1MuS2+sRT2uvmJ4U0FQPZNTLktvrFU9rr5ieFNBUD2TUy5Lb6xFPQAAAAAAAAAAAAAAAAAAAACTUy5Lb6w1PQAAAAAAAAAAAAAAAAAAAAAAAAAAAAAAAAAAAAAAAAAAAAAAAAAAAAAAAAAAAAAAAAAAAAAAAAAAAAAAAAAAAAAAAAAAAAAAAAAAAAAAAAAAAAAAAAAAAAAAAAAAAAAAAAAAAAAAAAAAAAAAAAAAAAAAAAAAAAAAAAAAAAAAAAAAAAAAAAAAAAAAAAAAAAAAAAAAAAAAAAAAAAAAAAAAAAAAAAAAAAAAAAAAAAAAAAAAAAAAAAAAAAAAAAAAAAAAAAAAAAAAAAAAAAAAAAAAAAAAAAAAAAAAAAAAAAAAAAAAk1MuS2+sNT2TUy5Lb6w1PZNTLktvrEU9k1MuS2+sVT2TUy5Lb6xVPa6+YnhTQWA9eOj5HYsXWz2uvmJ4U0FgPXjo+R2LF1s9k1MuS2+sVT2TUy5Lb6w1PQAAAAAAAAAAAAAAAAAAAAAAAAAAAAAAAJNTLktvrDU9AAAAAAAAAAAAAAAAAAAAAAAAAAAAAAAAAAAAAAAAAAAAAAAAAAAAAAAAAAAAAAAAAAAAAAAAAAAAAAAAAAAAAAAAAAAAAAAAAAAAAAAAAAAAAAAAAAAAAAAAAAAAAAAAAAAAAAAAAAAAAAAAAAAAAAAAAAAAAAAAAAAAAAAAAAAAAAAAAAAAAAAAAAAAAAAAAAAAAAAAAAAAAAAAAAAAAAAAAAAAAAAAAAAAAAAAAAAAAAAAAAAAAAAAAAAAAAAAAAAAAAAAAAAAAAAAAAAAAAAAAAAAAAAAk1MuS2+sRT2uvmJ4U0FQPZNTLktvrEU9rr5ieFNBYD2uvmJ4U0FgPZNTLktvrFU9k1MuS2+sVT2uvmJ4U0FQPZNTLktvrFU9k1MuS2+sVT2TUy5Lb6xFPQAAAAAAAAAAk1MuS2+sNT0AAAAAAAAAAAAAAAAAAAAAAAAAAAAAAAAAAAAAAAAAAAAAAAAAAAAAAAAAAAAAAAAAAAAAAAAAAAAAAAAAAAAAAAAAAAAAAAAAAAAAAAAAAAAAAAAAAAAAAAAAAAAAAAAAAAAAAAAAAAAAAAAAAAAAAAAAAAAAAAAAAAAAAAAAAAAAAAAAAAAAAAAAAAAAAAAAAAAAAAAAAAAAAAAAAAAAAAAAAAAAAAAAAAAAAAAAAAAAAAAAAAAAAAAAAAAAAACTUy5Lb6w1PQAAAAAAAAAAAAAAAAAAAAAAAAAAAAAAAJNTLktvrDU9k1MuS2+sRT2TUy5Lb6w1Pa6+YnhTQWA9rr5ieFNBUD0gichh4fZiPa6+YnhTQWA9k1MuS2+sVT2TUy5Lb6xFPZNTLktvrEU9k1MuS2+sNT0AAAAAAAAAAAAAAAAAAAAAAAAAAAAAAAAAAAAAAAAAAAAAAAAAAAAAAAAAAAAAAAAAAAAAAAAAAAAAAAAAAAAAAAAAAAAAAAAAAAAAAAAAAAAAAAAAAAAAAAAAAAAAAAAAAAAAAAAAAAAAAAAAAAAAAAAAAAAAAAAAAAAAAAAAAAAAAAAAAAAAAAAAAAAAAAAAAAAAAAAAAAAAAAAAAAAAAAAAAAAAAAAAAAAAAAAAAAAAAAAAAAAAAAAAAAAAAAAAAAAAAAAAAAAAAAAAAAAAAAAAAAAAAAAAAAAAAAAAAJNTLktvrEU9k1MuS2+sNT2TUy5Lb6xFPZNTLktvrFU9k1MuS2+sVT2SUy5Lb6xlPa6+YnhTQWA9rr5ieFNBYD2uvmJ4U0FgPXjo+R2LF1s9rr5ieFNBUD0AAAAAAAAAAAAAAAAAAAAAAAAAAAAAAAAAAAAAAAAAAJNTLktvrDU9AAAAAAAAAAAAAAAAAAAAAAAAAAAAAAAAAAAAAAAAAAAAAAAAAAAAAAAAAAAAAAAAAAAAAAAAAAAAAAAAAAAAAAAAAAAAAAAAAAAAAAAAAAAAAAAAAAAAAAAAAAAAAAAAAAAAAAAAAAAAAAAAAAAAAAAAAAAAAAAAAAAAAAAAAAAAAAAAAAAAAAAAAAAAAAAAAAAAAAAAAAAAAAAAAAAAAAAAAAAAAAAAAAAAAAAAAAAAAAAAAAAAAAAAAAAAAAAAAAAAAAAAAAAAAAAAAAAAAAAAAAAAAAAAk1MuS2+sVT2TUy5Lb6w1PXjo+R2LF1s9klMuS2+sZT2SUy5Lb6xlPZJTLktvrGU9k1MuS2+sVT2uvmJ4U0FgPa6+YnhTQVA9k1MuS2+sRT2TUy5Lb6w1PZNTLktvrDU9AAAAAAAAAAAAAAAAAAAAAAAAAAAAAAAAAAAAAAAAAAAAAAAAAAAAAAAAAAAAAAAAAAAAAAAAAAAAAAAAAAAAAAAAAAAAAAAAAAAAAAAAAAAAAAAAAAAAAAAAAAAAAAAAAAAAAAAAAAAAAAAAAAAAAAAAAAAAAAAAAAAAAAAAAAAAAAAAAAAAAAAAAAAAAAAAAAAAAAAAAAAAAAAAAAAAAAAAAAAAAAAAAAAAAAAAAAAAAAAAAAAAAAAAAAAAAAAAAAAAAAAAAAAAAAAAAAAAAJNTLktvrDU9k1MuS2+sRT2TUy5Lb6xFPZNTLktvrDU9k1MuS2+sVT0gichh4fZiPa6+YnhTQWA9klMuS2+sZT0gichh4fZiPZJTLktvrGU9k1MuS2+sVT2TUy5Lb6xVPZNTLktvrDU9AAAAAAAAAACTUy5Lb6w1PQAAAAAAAAAAAAAAAAAAAAAAAAAAAAAAAAAAAAAAAAAAAAAAAAAAAAAAAAAAAAAAAAAAAAAAAAAAAAAAAAAAAAAAAAAAAAAAAAAAAAAAAAAAAAAAAAAAAAAAAAAAAAAAAAAAAAAAAAAAAAAAAAAAAAAAAAAAAAAAAAAAAAAAAAAAAAAAAAAAAAAAAAAAAAAAAAAAAAAAAAAAAAAAAAAAAAAAAAAAAAAAAAAAAAAAAAAAAAAAAAAAAAAAAAAAAAAAAAAAAAAAAAAAAAAAAAAAAAAAAAAAAAAAAAAAAAAAAAAAk1MuS2+sNT2TUy5Lb6xFPa6+YnhTQWA9k1MuS2+sVT2SUy5Lb6xlPSCJyGHh9mI9klMuS2+sZT0gichh4fZiPa6+YnhTQWA9k1MuS2+sNT2uvmJ4U0FgPZNTLktvrDU9k1MuS2+sNT0AAAAAAAAAAAAAAAAAAAAAAAAAAAAAAAAAAAAAAAAAAAAAAAAAAAAAAAAAAAAAAAAAAAAAAAAAAAAAAAAAAAAAAAAAAAAAAAAAAAAAAAAAAAAAAAAAAAAAAAAAAAAAAAAAAAAAAAAAAAAAAAAAAAAAAAAAAAAAAAAAAAAAAAAAAAAAAAAAAAAAAAAAAAAAAAAAAAAAAAAAAAAAAAAAAAAAAAAAAAAAAAAAAAAAAAAAAAAAAAAAAAAAAAAAAAAAAAAAAAAAAAAAAAAAAAAAAAAAAAAAAAAAAAAAAAAAAAAAAJNTLktvrFU9k1MuS2+sRT2TUy5Lb6xVPXjo+R2LF1s9BB6UNP1haD0gichh4fZiPSCJyGHh9mI9klMuS2+sZT2uvmJ4U0FgPZNTLktvrEU9k1MuS2+sNT2TUy5Lb6w1PQAAAAAAAAAAAAAAAAAAAAAAAAAAAAAAAAAAAAAAAAAAAAAAAAAAAAAAAAAAAAAAAAAAAAAAAAAAAAAAAAAAAAAAAAAAAAAAAAAAAAAAAAAAAAAAAAAAAAAAAAAAAAAAAAAAAAAAAAAAAAAAAAAAAAAAAAAAAAAAAAAAAAAAAAAAAAAAAAAAAAAAAAAAAAAAAAAAAAAAAAAAAAAAAAAAAAAAAAAAAAAAAAAAAAAAAAAAAAAAAAAAAAAAAAAAAAAAAAAAAAAAAAAAAAAAAAAAAAAAAAAAAAAAAJNTLktvrDU9k1MuS2+sNT2TUy5Lb6w1PXjo+R2LF1s9rr5ieFNBYD146PkdixdbPeiyXwcZzW09klMuS2+sZT2SUy5Lb6xlPSCJyGHh9mI9rr5ieFNBUD2TUy5Lb6xVPZNTLktvrEU9k1MuS2+sNT2TUy5Lb6w1PQAAAAAAAAAAAAAAAAAAAAAAAAAAAAAAAAAAAAAAAAAAAAAAAAAAAAAAAAAAAAAAAAAAAAAAAAAAAAAAAAAAAAAAAAAAAAAAAAAAAAAAAAAAAAAAAAAAAAAAAAAAAAAAAAAAAAAAAAAAAAAAAAAAAAAAAAAAAAAAAAAAAAAAAAAAAAAAAAAAAAAAAAAAAAAAAAAAAAAAAAAAAAAAAAAAAAAAAAAAAAAAAAAAAAAAAAAAAAAAAAAAAAAAAAAAAAAAAJNTLktvrDU9k1MuS2+sNT0AAAAAAAAAAJNTLktvrDU9k1MuS2+sNT146PkdixdbPa6+YnhTQWA9eOj5HYsXWz146PkdixdbPZJTLktvrGU9eOj5HYsXWz2SUy5Lb6xlPXjo+R2LF1s9k1MuS2+sNT2TUy5Lb6xFPQAAAAAAAAAAAAAAAAAAAAAAAAAAAAAAAAAAAAAAAAAAAAAAAAAAAAAAAAAAAAAAAAAAAAAAAAAAAAAAAAAAAAAAAAAAAAAAAAAAAAAAAAAAAAAAAAAAAAAAAAAAAAAAAAAAAAAAAAAAAAAAAAAAAAAAAAAAAAAAAAAAAAAAAAAAAAAAAAAAAAAAAAAAAAAAAAAAAAAAAAAAAAAAAAAAAAAAAAAAAAAAAAAAAAAAAAAAAAAAAAAAAAAAAAAAAAAAAAAAAAAAAAAAAAAAAAAAAAAAAAAAAAAAAAAAAAAAAAAAAAAAAAAAAACTUy5Lb6xFPZNTLktvrDU9k1MuS2+sRT2uvmJ4U0FQPXjo+R2LF1s9IInIYeH2Yj0gichh4fZiPSCJyGHh9mI9eOj5HYsXWz2TUy5Lb6w1PZNTLktvrEU9k1MuS2+sRT0AAAAAAAAAAAAAAAAAAAAAAAAAAAAAAAAAAAAAAAAAAAAAAAAAAAAAAAAAAAAAAAAAAAAAAAAAAAAAAAAAAAAAAAAAAAAAAAAAAAAAAAAAAAAAAAAAAAAAAAAAAAAAAAAAAAAAAAAAAAAAAAAAAAAAAAAAAAAAAAAAAAAAAAAAAAAAAAAAAAAAAAAAAAAAAAAAAAAAAAAAAAAAAAAAAAAAAAAAAAAAAAAAAAAAAAAAAAAAAAAAAAAAAAAAAAAAAAAAAAAAAAAAAAAAAAAAAAAAAAAAAAAAAAAAAAAAAAAAAJNTLktvrDU9k1MuS2+sNT2TUy5Lb6xFPa6+YnhTQVA9klMuS2+sZT2SUy5Lb6xlPSCJyGHh9mI9IInIYeH2Yj2TUy5Lb6xVPXjo+R2LF1s9eOj5HYsXWz2TUy5Lb6xFPZNTLktvrDU9AAAAAAAAAACTUy5Lb6w1PZNTLktvrDU9AAAAAAAAAAAAAAAAAAAAAAAAAAAAAAAAAAAAAAAAAAAAAAAAAAAAAAAAAAAAAAAAAAAAAAAAAAAAAAAAAAAAAAAAAAAAAAAAAAAAAAAAAAAAAAAAAAAAAAAAAAAAAAAAAAAAAAAAAAAAAAAAAAAAAAAAAAAAAAAAAAAAAAAAAAAAAAAAAAAAAAAAAAAAAAAAAAAAAAAAAAAAAAAAAAAAAAAAAAAAAAAAAAAAAAAAAAAAAAAAAAAAAAAAAAAAAAAAk1MuS2+sNT0AAAAAAAAAAAAAAAAAAAAArr5ieFNBUD2TUy5Lb6xVPZJTLktvrGU9IInIYeH2Yj146PkdixdbPXjo+R2LF1s9klMuS2+sZT2uvmJ4U0FQPa6+YnhTQVA9k1MuS2+sRT2TUy5Lb6w1PQAAAAAAAAAAAAAAAAAAAAAAAAAAAAAAAAAAAAAAAAAAAAAAAAAAAAAAAAAAAAAAAAAAAAAAAAAAAAAAAAAAAAAAAAAAAAAAAAAAAAAAAAAAAAAAAAAAAAAAAAAAAAAAAAAAAAAAAAAAAAAAAAAAAAAAAAAAAAAAAAAAAAAAAAAAAAAAAAAAAAAAAAAAAAAAAAAAAAAAAAAAAAAAAAAAAAAAAAAAAAAAAAAAAAAAAAAAAAAAAAAAAAAAAAAAAAAAAAAAAAAAAAAAAAAAAAAAAAAAAAAAAAAAAAAAAAAAAAAAAAAAAAAAAACTUy5Lb6xFPZNTLktvrDU9k1MuS2+sRT2TUy5Lb6xFPa6+YnhTQWA9IInIYeH2Yj2uvmJ4U0FgPXjo+R2LF1s9rr5ieFNBUD2uvmJ4U0FQPZNTLktvrDU9k1MuS2+sNT0AAAAAAAAAAAAAAAAAAAAAAAAAAAAAAAAAAAAAAAAAAAAAAAAAAAAAAAAAAAAAAAAAAAAAAAAAAAAAAAAAAAAAAAAAAAAAAAAAAAAAAAAAAAAAAAAAAAAAAAAAAAAAAAAAAAAAAAAAAAAAAAAAAAAAAAAAAAAAAAAAAAAAAAAAAAAAAAAAAAAAAAAAAAAAAAAAAAAAAAAAAAAAAAAAAAAAAAAAAAAAAAAAAAAAAAAAAAAAAAAAAAAAAAAAAAAAAAAAAAAAAAAAAAAAAAAAAAAAAAAAAAAAAAAAAAAAAAAAAAAAAAAAAAAAAAAAAAAAAACTUy5Lb6w1PXjo+R2LF1s9k1MuS2+sRT146PkdixdbPZNTLktvrFU9rr5ieFNBYD2TUy5Lb6xVPZNTLktvrFU9k1MuS2+sRT2TUy5Lb6w1PZNTLktvrDU9AAAAAAAAAAAAAAAAAAAAAAAAAAAAAAAAAAAAAAAAAAAAAAAAAAAAAAAAAAAAAAAAAAAAAAAAAAAAAAAAAAAAAAAAAAAAAAAAAAAAAAAAAAAAAAAAAAAAAAAAAAAAAAAAAAAAAAAAAAAAAAAAAAAAAAAAAAAAAAAAAAAAAAAAAAAAAAAAAAAAAAAAAAAAAAAAAAAAAAAAAAAAAAAAAAAAAAAAAAAAAAAAAAAAAAAAAAAAAAAAAAAAAAAAAAAAAAAAAAAAAAAAAAAAAAAAAAAAAAAAAAAAAAAAAAAAAAAAAACTUy5Lb6w1PZNTLktvrEU9k1MuS2+sRT2uvmJ4U0FQPZNTLktvrFU9k1MuS2+sVT2TUy5Lb6xVPZNTLktvrEU9k1MuS2+sRT2TUy5Lb6xFPZNTLktvrFU9k1MuS2+sNT2TUy5Lb6w1PQAAAAAAAAAAk1MuS2+sNT0AAAAAAAAAAAAAAAAAAAAAAAAAAAAAAAAAAAAAAAAAAAAAAAAAAAAAAAAAAAAAAAAAAAAAAAAAAAAAAAAAAAAAAAAAAAAAAAAAAAAAAAAAAAAAAAAAAAAAAAAAAAAAAAAAAAAAAAAAAAAAAAAAAAAAAAAAAAAAAAAAAAAAAAAAAAAAAAAAAAAAAAAAAAAAAAAAAAAAAAAAAAAAAAAAAAAAAAAAAAAAAAAAAAAAAAAAAAAAAAAAAAAAAAAAAAAAAAAAAAAAAAAAAAAAAAAAAAAAk1MuS2+sNT0AAAAAAAAAAJNTLktvrDU9k1MuS2+sRT146PkdixdbPZNTLktvrFU9rr5ieFNBUD146PkdixdbPZNTLktvrEU9rr5ieFNBUD2TUy5Lb6w1PQAAAAAAAAAAk1MuS2+sRT0AAAAAAAAAAAAAAAAAAAAAAAAAAAAAAAAAAAAAAAAAAAAAAAAAAAAAAAAAAAAAAAAAAAAAAAAAAAAAAAAAAAAAAAAAAAAAAAAAAAAAAAAAAAAAAAAAAAAAAAAAAAAAAAAAAAAAAAAAAAAAAAAAAAAAAAAAAAAAAAAAAAAAAAAAAAAAAAAAAAAAAAAAAAAAAAAAAAAAAAAAAAAAAAAAAAAAAAAAAAAAAAAAAAAAAAAAAAAAAAAAAAAAAAAAAAAAAAAAAAAAAAAAAAAAAAAAAAAAAAAAAAAAAAAAAAAAAAAAAAAAAAAAAAAAk1MuS2+sNT2TUy5Lb6w1PZNTLktvrDU9k1MuS2+sRT2TUy5Lb6xFPa6+YnhTQVA9rr5ieFNBUD2TUy5Lb6xFPQAAAAAAAAAAk1MuS2+sNT2TUy5Lb6w1PQAAAAAAAAAAAAAAAAAAAAAAAAAAAAAAAAAAAAAAAAAAAAAAAAAAAAAAAAAAAAAAAAAAAAAAAAAAAAAAAAAAAAAAAAAAAAAAAAAAAAAAAAAAAAAAAAAAAAAAAAAAAAAAAAAAAAAAAAAAAAAAAAAAAAAAAAAAAAAAAAAAAAAAAAAAAAAAAAAAAAAAAAAAAAAAAAAAAAAAAAAAAAAAAAAAAAAAAAAAAAAAAAAAAAAAAAAAAAAAAAAAAAAAAAAAAAAAAAAAAAAAAAAAAAAAAAAAAAAAAAAAAAAAAAAAAAAAAAAAAAAAAAAAAACTUy5Lb6w1PZNTLktvrDU9k1MuS2+sNT2TUy5Lb6w1PZNTLktvrEU9rr5ieFNBUD2TUy5Lb6xFPZNTLktvrDU9rr5ieFNBUD0AAAAAAAAAAAAAAAAAAAAAAAAAAAAAAAAAAAAAAAAAAAAAAAAAAAAAAAAAAAAAAAAAAAAAAAAAAAAAAAAAAAAAAAAAAAAAAAAAAAAAAAAAAAAAAAAAAAAAAAAAAAAAAAAAAAAAAAAAAAAAAAAAAAAAAAAAAAAAAAAAAAAAAAAAAAAAAAAAAAAAAAAAAAAAAAAAAAAAAAAAAAAAAAAAAAAAAAAAAAAAAAAAAAAAAAAAAAAAAAAAAAAAAAAAAAAAAAAAAAAAAAAAAAAAAAAAAAAAAAAAAAAAAAAAAAAAAAAAAAAAAAAAAAAAAAAAAAAAAAAAAAAAAAAAAAAAAAAAAAAAAAAAAAAAAACTUy5Lb6xFPZNTLktvrDU9k1MuS2+sRT2uvmJ4U0FQPa6+YnhTQVA9k1MuS2+sVT2TUy5Lb6xFPZNTLktvrEU9AAAAAAAAAACTUy5Lb6xFPQAAAAAAAAAAk1MuS2+sNT0AAAAAAAAAAAAAAAAAAAAAAAAAAAAAAAAAAAAAAAAAAAAAAAAAAAAAAAAAAAAAAAAAAAAAAAAAAAAAAAAAAAAAAAAAAAAAAAAAAAAAAAAAAAAAAAAAAAAAAAAAAAAAAAAAAAAAAAAAAAAAAAAAAAAAAAAAAAAAAAAAAAAAAAAAAAAAAAAAAAAAAAAAAAAAAAAAAAAAAAAAAAAAAAAAAAAAAAAAAAAAAAAAAAAAAAAAAAAAAAAAAAAAAAAAAAAAAAAAAAAAAAAAAAAAAAAAAAAAAAAAAAAAAAAAAAAAAAAAAAAAAAAAAAAAAAAAAAAAAACTUy5Lb6w1PQAAAAAAAAAAAAAAAAAAAACuvmJ4U0FQPQAAAAAAAAAAk1MuS2+sNT2TUy5Lb6w1PZNTLktvrEU9AAAAAAAAAACTUy5Lb6w1PQAAAAAAAAAAAAAAAAAAAAAAAAAAAAAAAAAAAAAAAAAAAAAAAAAAAAAAAAAAAAAAAAAAAAAAAAAAAAAAAAAAAAAAAAAAAAAAAAAAAAAAAAAAAAAAAAAAAAAAAAAAAAAAAAAAAAAAAAAAAAAAAAAAAAAAAAAAAAAAAAAAAAAAAAAAAAAAAAAAAAAAAAAAAAAAAAAAAAAAAAAAAAAAAAAAAAAAAAAAAAAAAAAAAAAAAAAAAAAAAAAAAAAAAAAAAAAAAAAAAAAAAAAAAAAAAAAAAAAAAAAAAAAAAAAAAAAAAAAAAAAAAAAAAAAAAAAAAAAAAAAAAAAAAAAAk1MuS2+sNT2TUy5Lb6w1PZNTLktvrDU9AAAAAAAAAACTUy5Lb6xFPZNTLktvrDU9AAAAAAAAAACTUy5Lb6w1PQAAAAAAAAAAAAAAAAAAAAAAAAAAAAAAAAAAAAAAAAAAAAAAAAAAAAAAAAAAAAAAAAAAAAAAAAAAAAAAAAAAAAAAAAAAAAAAAAAAAAAAAAAAAAAAAAAAAAAAAAAAAAAAAAAAAAAAAAAAAAAAAAAAAAAAAAAAAAAAAAAAAAAAAAAAAAAAAAAAAAAAAAAAAAAAAAAAAAAAAAAAAAAAAAAAAAAAAAAAAAAAAAAAAAAAAAAAAAAAAAAAAAAAAAAAAAAAAAAAAAAAAAAAAAAAAAAAAAAAAAAAAAAAAAAAAAAAAAAAAAAAAAAAAAAAAAAAAAAAAAAAAAAAAAAAk1MuS2+sNT0AAAAAAAAAAJNTLktvrDU9k1MuS2+sRT0AAAAAAAAAAAAAAAAAAAAAk1MuS2+sRT2TUy5Lb6w1PZNTLktvrDU9AAAAAAAAAACTUy5Lb6w1PQAAAAAAAAAAAAAAAAAAAAAAAAAAAAAAAAAAAAAAAAAAAAAAAAAAAAAAAAAAAAAAAAAAAAAAAAAAAAAAAAAAAAAAAAAAAAAAAAAAAAAAAAAAAAAAAAAAAAAAAAAAAAAAAAAAAAAAAAAAAAAAAAAAAAAAAAAAAAAAAAAAAAAAAAAAAAAAAAAAAAAAAAAAAAAAAAAAAAAAAAAAAAAAAAAAAAAAAAAAAAAAAAAAAAAAAAAAAAAAAAAAAAAAAAAAAAAAAAAAAAAAAAAAAAAAAAAAAAAAAAAAAAAAAAAAAAAAAAAAAAAAAAAAAAAAAAAAAAAAAAAAAAAAAAAAAAAAAAAAAAAAAAAAAAAAAAAAAAAAAAAAk1MuS2+sNT2TUy5Lb6w1PZNTLktvrDU9k1MuS2+sNT0AAAAAAAAAAAAAAAAAAAAAAAAAAAAAAAAAAAAAAAAAAAAAAAAAAAAAAAAAAAAAAAAAAAAAAAAAAAAAAAAAAAAAAAAAAAAAAAAAAAAAAAAAAAAAAAAAAAAAAAAAAAAAAAAAAAAAAAAAAAAAAAAAAAAAAAAAAAAAAAAAAAAAAAAAAAAAAAAAAAAAAAAAAAAAAAAAAAAAAAAAAAAAAAAAAAAAAAAAAAAAAAAAAAAAAAAAAAAAAAAAAAAAAAAAAAAAAAAAAAAAAAAAAAAAAAAAAAAAAAAAAAAAAAAAAAAAAAAAAAAAAAAAAAAAAAAAAAAAAAAAAAAAAAAAAAAAAAAAAAAAAAAAAAAAAAAAAAAAAAAAAAAAAAAAAAAAAAAAAAAAAACTUy5Lb6w1PQAAAAAAAAAAk1MuS2+sNT0AAAAAAAAAAAAAAAAAAAAAAAAAAAAAAAAAAAAAAAAAAAAAAAAAAAAAAAAAAAAAAAAAAAAAAAAAAAAAAAAAAAAAAAAAAAAAAAAAAAAAAAAAAAAAAAAAAAAAAAAAAAAAAAAAAAAAAAAAAAAAAAAAAAAAAAAAAAAAAAAAAAAAAAAAAAAAAAAAAAAAAAAAAAAAAAAAAAAAAAAAAAAAAAAAAAAAAAAAAAAAAAAAAAAAAAAAAAAAAAAAAAAAAAAAAAAAAAAAAAAAAAAAAAAAAAAAAAAAAAAAAAAAAAAAAAAAAAAAAAAAAAAAAAAAAAAAAAAAAAAAAAAAAAAAAAAAAAAAAAAAAAAAAAAAAAAAAAAAAAAAAAAAAAAAAAAAAAAAAAAAAAAAAAAAAAAAAAAAAAAAAAAAAAAAAAAAAACTUy5Lb6w1PQAAAAAAAAAAAAAAAAAAAAAAAAAAAAAAAAAAAAAAAAAAAAAAAAAAAAAAAAAAAAAAAAAAAAAAAAAAAAAAAAAAAAAAAAAAAAAAAAAAAAAAAAAAAAAAAAAAAAAAAAAAAAAAAAAAAAAAAAAAAAAAAAAAAAAAAAAAAAAAAAAAAAAAAAAAAAAAAAAAAAAAAAAAAAAAAAAAAAAAAAAAAAAAAAAAAAAAAAAAAAAAAAAAAAAAAAAAAAAAAAAAAAAAAAAAAAAAAAAAAAAAAAAAAAAAAAAAAAAAAAAAAAAAAAAAAAAAAAAAAAAAAAAAAAAAAAAAAAAAAAAAAAAAAAAAAAAAAAAAAAAAAAAAAAAAAAAAAAAAAAAAAAAAAAAAAAAAAAAAAAAAAJNTLktvrDU9AAAAAAAAAACTUy5Lb6w1PQAAAAAAAAAAAAAAAAAAAAAAAAAAAAAAAJNTLktvrDU9k1MuS2+sNT0=\",\"dtype\":\"float64\",\"order\":\"little\",\"shape\":[40,40]}]},\"selected\":{\"id\":\"1048\"},\"selection_policy\":{\"id\":\"1047\"}},\"id\":\"1001\",\"type\":\"ColumnDataSource\"},{\"attributes\":{},\"id\":\"1014\",\"type\":\"BasicTicker\"},{\"attributes\":{\"color_mapper\":{\"id\":\"1037\"},\"dh\":{\"units\":\"data\",\"value\":2.793174652876961},\"dw\":{\"units\":\"data\",\"value\":0.3657897152551198},\"image\":{\"field\":\"image\"},\"x\":{\"value\":-0.1907975005876315},\"y\":{\"value\":-1.4600746259000226}},\"id\":\"1036\",\"type\":\"Image\"},{\"attributes\":{},\"id\":\"1018\",\"type\":\"BasicTicker\"},{\"attributes\":{\"axis\":{\"id\":\"1017\"},\"dimension\":1,\"ticker\":null},\"id\":\"1020\",\"type\":\"Grid\"},{\"attributes\":{},\"id\":\"1021\",\"type\":\"PanTool\"},{\"attributes\":{\"active_drag\":\"auto\",\"active_inspect\":\"auto\",\"active_multi\":null,\"active_scroll\":\"auto\",\"active_tap\":\"auto\",\"tools\":[{\"id\":\"1021\"},{\"id\":\"1022\"},{\"id\":\"1023\"},{\"id\":\"1024\"},{\"id\":\"1025\"},{\"id\":\"1026\"}]},\"id\":\"1028\",\"type\":\"Toolbar\"},{\"attributes\":{\"end\":0.17499221466748827,\"start\":-0.1907975005876315},\"id\":\"1005\",\"type\":\"Range1d\"}],\"root_ids\":[\"1002\"]},\"title\":\"Bokeh Application\",\"version\":\"2.2.1\"}};\n",
       "  var render_items = [{\"docid\":\"5233de8b-1c7f-4332-bd3d-615ac4d08ad6\",\"root_ids\":[\"1002\"],\"roots\":{\"1002\":\"86457ba4-0c43-452b-bfc8-de6332233568\"}}];\n",
       "  root.Bokeh.embed.embed_items_notebook(docs_json, render_items);\n",
       "\n",
       "  }\n",
       "  if (root.Bokeh !== undefined) {\n",
       "    embed_document(root);\n",
       "  } else {\n",
       "    var attempts = 0;\n",
       "    var timer = setInterval(function(root) {\n",
       "      if (root.Bokeh !== undefined) {\n",
       "        clearInterval(timer);\n",
       "        embed_document(root);\n",
       "      } else {\n",
       "        attempts++;\n",
       "        if (attempts > 100) {\n",
       "          clearInterval(timer);\n",
       "          console.log(\"Bokeh: ERROR: Unable to run BokehJS code because BokehJS library is missing\");\n",
       "        }\n",
       "      }\n",
       "    }, 10, root)\n",
       "  }\n",
       "})(window);"
      ],
      "application/vnd.bokehjs_exec.v0+json": ""
     },
     "metadata": {
      "application/vnd.bokehjs_exec.v0+json": {
       "id": "1002"
      }
     },
     "output_type": "display_data"
    }
   ],
   "source": [
    "ds = ColumnDataSource(data=dict(image=[H.transpose()]))   \n",
    "p = figure(x_range=[xmin, xmax], y_range=[ymin, ymax], title='Bunch at end', \n",
    "           x_axis_label='z (mm)', y_axis_label='pz (1e-3)',\n",
    "           plot_width=500, plot_height=500)\n",
    "p.image(image='image', source=ds, \n",
    "    x=xmin, y=ymin, dw=xmax-xmin, dh=ymax-ymin, palette=pal)\n",
    "show(p)"
   ]
  },
  {
   "cell_type": "markdown",
   "metadata": {},
   "source": [
    "# Data for ParticleGroup\n",
    "\n",
    "The above commands have been packaged into two functions for easier use, and to easily create ParticleGroup objects"
   ]
  },
  {
   "cell_type": "code",
   "execution_count": 16,
   "metadata": {},
   "outputs": [],
   "source": [
    "from pytao.tao_ctypes.bunch import get_bunch_stats, get_bunch_data"
   ]
  },
  {
   "cell_type": "code",
   "execution_count": 17,
   "metadata": {},
   "outputs": [
    {
     "data": {
      "text/plain": [
       "{'beta_x': 0.30134457142882,\n",
       " 'alpha_x': -2.1521049823636,\n",
       " 'gamma_x': 18.68809459023,\n",
       " 'phi_x': 0.0,\n",
       " 'eta_x': -0.048190545736803,\n",
       " 'etap_x': -0.45493969485518,\n",
       " 'sigma_x': 6.0545051529212e-05,\n",
       " 'sigma_p_x': 0.00047679256976393,\n",
       " 'emit_x': 1.2164490793028e-08,\n",
       " 'norm_emit_x': 9.9974344364893e-07,\n",
       " 'beta_y': 0.40783204147832,\n",
       " 'alpha_y': 1.9440813313188,\n",
       " 'gamma_y': 11.719168031668,\n",
       " 'phi_y': 0.0,\n",
       " 'eta_y': -0.045730121878916,\n",
       " 'etap_y': 0.026397863550044,\n",
       " 'sigma_y': 7.0434481918443e-05,\n",
       " 'sigma_p_y': 0.00037756614304414,\n",
       " 'emit_y': 1.2164361154991e-08,\n",
       " 'norm_emit_y': 9.9973278929603e-07,\n",
       " 'beta_z': 95.824240685781,\n",
       " 'alpha_z': -1.2405916961694,\n",
       " 'gamma_z': 0.026497134111715,\n",
       " 'phi_z': 0.0,\n",
       " 'eta_z': 0.0,\n",
       " 'etap_z': 0.0,\n",
       " 'sigma_z': 0.00089945844475665,\n",
       " 'sigma_p_z': 1.4956943815201e-05,\n",
       " 'emit_z': 8.4428062049241e-09,\n",
       " 'norm_emit_z': 6.9387533707609e-07,\n",
       " 'beta_a': 0.2485349129631,\n",
       " 'alpha_a': -1.7750276192378,\n",
       " 'gamma_a': 15.413909307857,\n",
       " 'phi_a': 0.0,\n",
       " 'eta_a': 0.0012487244918932,\n",
       " 'etap_a': 0.01111242863781,\n",
       " 'sigma_a': 0.0,\n",
       " 'sigma_p_a': 0.0,\n",
       " 'emit_a': 1.2165553897603e-08,\n",
       " 'norm_emit_a': 9.9983081531509e-07,\n",
       " 'beta_b': 0.33555107831616,\n",
       " 'alpha_b': 1.5990060762921,\n",
       " 'gamma_b': 9.6386271084489,\n",
       " 'phi_b': 0.0,\n",
       " 'eta_b': 0.0045461603964579,\n",
       " 'etap_b': -0.021897187061854,\n",
       " 'sigma_b': 0.0,\n",
       " 'sigma_p_b': 0.0,\n",
       " 'emit_b': 1.2173246410896e-08,\n",
       " 'norm_emit_b': 1.0004630275351e-06,\n",
       " 'beta_c': 95.714812384062,\n",
       " 'alpha_c': -1.2389724892557,\n",
       " 'gamma_c': 0.026443029653139,\n",
       " 'phi_c': 0.0,\n",
       " 'eta_c': 1.2389724892557,\n",
       " 'etap_c': 0.026443029653139,\n",
       " 'sigma_c': 0.0,\n",
       " 'sigma_p_c': 0.0,\n",
       " 'emit_c': 8.4334992322965e-09,\n",
       " 'norm_emit_c': 6.9311043988287e-07,\n",
       " 'sigma_11': 3.6662227932189e-09,\n",
       " 'sigma_12': 2.6184165818828e-08,\n",
       " 'sigma_13': -1.4839326446185e-13,\n",
       " 'sigma_14': -4.7428373301124e-14,\n",
       " 'sigma_15': -4.6787120378287e-10,\n",
       " 'sigma_16': -1.078071509682e-11,\n",
       " 'sigma_21': 2.6184165818828e-08,\n",
       " 'sigma_22': 2.273774559038e-07,\n",
       " 'sigma_23': -1.4033913862281e-12,\n",
       " 'sigma_24': 4.9266504816739e-14,\n",
       " 'sigma_25': -4.4486030631188e-09,\n",
       " 'sigma_26': -1.0177463569835e-10,\n",
       " 'sigma_31': -1.4839326446185e-13,\n",
       " 'sigma_32': -1.4033913862281e-12,\n",
       " 'sigma_33': 4.9614840756771e-09,\n",
       " 'sigma_34': -2.3648777486723e-08,\n",
       " 'sigma_35': 1.5126882298839e-13,\n",
       " 'sigma_36': -1.0230293261504e-11,\n",
       " 'sigma_41': -4.7428373301124e-14,\n",
       " 'sigma_42': 4.9266504816739e-14,\n",
       " 'sigma_43': -2.3648777486723e-08,\n",
       " 'sigma_44': 1.4255634826503e-07,\n",
       " 'sigma_45': -3.2740194093271e-13,\n",
       " 'sigma_46': 5.9054704973057e-12,\n",
       " 'sigma_51': -4.6787120378287e-10,\n",
       " 'sigma_52': -4.4486030631188e-09,\n",
       " 'sigma_53': 1.5126882298839e-13,\n",
       " 'sigma_54': -3.2740194093271e-13,\n",
       " 'sigma_55': 8.0902549384405e-07,\n",
       " 'sigma_56': 1.0474075270196e-08,\n",
       " 'sigma_61': -1.078071509682e-11,\n",
       " 'sigma_62': -1.0177463569835e-10,\n",
       " 'sigma_63': -1.0230293261504e-11,\n",
       " 'sigma_64': 5.9054704973057e-12,\n",
       " 'sigma_65': 1.0474075270196e-08,\n",
       " 'sigma_66': 2.2371016829109e-10,\n",
       " 'rel_min_1': -0.00019069672065915,\n",
       " 'rel_max_1': 0.00017509299459597,\n",
       " 'centroid_vec_1': -1.0077992847861e-07,\n",
       " 'rel_min_2': -0.0014591534608898,\n",
       " 'rel_max_2': 0.0013340211919872,\n",
       " 'centroid_vec_2': -9.2116501024669e-07,\n",
       " 'rel_min_3': -0.00020552439918535,\n",
       " 'rel_max_3': 0.00020426791940824,\n",
       " 'centroid_vec_3': 5.3540016377261e-13,\n",
       " 'rel_min_4': -0.0011968534953946,\n",
       " 'rel_max_4': 0.0012544439653187,\n",
       " 'centroid_vec_4': -2.5367392358199e-11,\n",
       " 'rel_min_5': -0.0026171546062299,\n",
       " 'rel_max_5': 0.0027836715577578,\n",
       " 'centroid_vec_5': -7.5359703312885e-08,\n",
       " 'rel_min_6': -1.6798312444375e-05,\n",
       " 'rel_max_6': 2.8011710031615e-05,\n",
       " 'centroid_vec_6': -5.7700611889016e-06,\n",
       " 'centroid_t': 1.1430421695331e-19,\n",
       " 'centroid_p0c': 41996891.314395,\n",
       " 'centroid_beta': 0.99992598157275,\n",
       " 'ix_ele': 8,\n",
       " 'direction': 1,\n",
       " 'species': 'Electron',\n",
       " 'location': 'Downstream_End',\n",
       " 's': 0.445,\n",
       " 'charge_live': 7.7000000000001e-11,\n",
       " 'n_particle_tot': 1000,\n",
       " 'n_particle_live': 1000,\n",
       " 'n_particle_lost_in_ele': 0,\n",
       " 'beam_saved': True}"
      ]
     },
     "execution_count": 17,
     "metadata": {},
     "output_type": "execute_result"
    }
   ],
   "source": [
    "# Get typical stats\n",
    "stats = get_bunch_stats(tao, 'end')\n",
    "stats"
   ]
  },
  {
   "cell_type": "code",
   "execution_count": 18,
   "metadata": {},
   "outputs": [
    {
     "data": {
      "text/plain": [
       "dict_keys(['x', 'px', 'y', 'py', 't', 'pz', 'weight', 'status', 'z', 'species'])"
      ]
     },
     "execution_count": 18,
     "metadata": {},
     "output_type": "execute_result"
    }
   ],
   "source": [
    "# Get data\n",
    "data = get_bunch_data(tao, 'end')    \n",
    "data.keys()"
   ]
  },
  {
   "cell_type": "code",
   "execution_count": 19,
   "metadata": {},
   "outputs": [
    {
     "data": {
      "text/plain": [
       "<ParticleGroup with 1000 particles at 0x7fe67596e9a0>"
      ]
     },
     "execution_count": 19,
     "metadata": {},
     "output_type": "execute_result"
    }
   ],
   "source": [
    "from pmd_beamphysics import ParticleGroup\n",
    "\n",
    "P = ParticleGroup(data=data)\n",
    "P"
   ]
  },
  {
   "cell_type": "code",
   "execution_count": 20,
   "metadata": {},
   "outputs": [
    {
     "data": {
      "image/png": "[encoded data removed]",
      "text/plain": [
       "<Figure size 432x288 with 3 Axes>"
      ]
     },
     "metadata": {
      "needs_background": "light"
     },
     "output_type": "display_data"
    }
   ],
   "source": [
    "P.plot('x', 'px')"
   ]
  },
  {
   "cell_type": "code",
   "execution_count": 21,
   "metadata": {},
   "outputs": [
    {
     "data": {
      "text/plain": [
       "0.0"
      ]
     },
     "execution_count": 21,
     "metadata": {},
     "output_type": "execute_result"
    }
   ],
   "source": [
    "# Note the z is 0 by definition\n",
    "P['mean_z']"
   ]
  },
  {
   "cell_type": "code",
   "execution_count": 22,
   "metadata": {},
   "outputs": [
    {
     "data": {
      "text/plain": [
       "(0.44500007497959254, 0.445)"
      ]
     },
     "execution_count": 22,
     "metadata": {},
     "output_type": "execute_result"
    }
   ],
   "source": [
    "# t it the total time\n",
    "P['mean_t']*P['mean_beta']*299792458, stats['s']"
   ]
  },
  {
   "cell_type": "code",
   "execution_count": 23,
   "metadata": {},
   "outputs": [
    {
     "data": {
      "text/plain": [
       "(1.0008549032579542e-06, 1.0009242252848605e-06)"
      ]
     },
     "execution_count": 23,
     "metadata": {},
     "output_type": "execute_result"
    }
   ],
   "source": [
    "P['norm_emit_x'], P['norm_emit_y']"
   ]
  },
  {
   "cell_type": "code",
   "execution_count": 24,
   "metadata": {},
   "outputs": [
    {
     "data": {
      "text/plain": [
       "(9.9974344364893e-07, 9.9973278929603e-07)"
      ]
     },
     "execution_count": 24,
     "metadata": {},
     "output_type": "execute_result"
    }
   ],
   "source": [
    "stats['norm_emit_x'], stats['norm_emit_y']"
   ]
  }
 ],
 "metadata": {
  "kernelspec": {
   "display_name": "Python 3",
   "language": "python",
   "name": "python3"
  },
  "language_info": {
   "codemirror_mode": {
    "name": "ipython",
    "version": 3
   },
   "file_extension": ".py",
   "mimetype": "text/x-python",
   "name": "python",
   "nbconvert_exporter": "python",
   "pygments_lexer": "ipython3",
   "version": "3.8.5"
  }
 },
 "nbformat": 4,
 "nbformat_minor": 4
}
