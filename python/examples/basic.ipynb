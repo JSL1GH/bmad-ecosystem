{
 "cells": [
  {
   "cell_type": "code",
   "execution_count": 1,
   "metadata": {},
   "outputs": [],
   "source": [
    "from pytao import Tao, util\n",
    "import os"
   ]
  },
  {
   "cell_type": "markdown",
   "metadata": {},
   "source": [
    "# Inititialize Tao"
   ]
  },
  {
   "cell_type": "code",
   "execution_count": 2,
   "metadata": {},
   "outputs": [
    {
     "name": "stdout",
     "output_type": "stream",
     "text": [
      "Bmad installation:  /Users/chrisonian/Code/bmad_svn/\n"
     ]
    }
   ],
   "source": [
    "# Point to local installation\n",
    "BASE_DIR=os.environ['ACC_ROOT_DIR'] \n",
    "print('Bmad installation: ', BASE_DIR)\n",
    "\n",
    "\n",
    "# Pick an example init\n",
    "init = BASE_DIR+'tao/examples/cesr/tao.init'\n",
    "# Make tao instance\n",
    "tao=Tao(init)   "
   ]
  },
  {
   "cell_type": "markdown",
   "metadata": {},
   "source": [
    "# Send a command"
   ]
  },
  {
   "cell_type": "code",
   "execution_count": 3,
   "metadata": {},
   "outputs": [
    {
     "data": {
      "text/plain": [
       "['# Values shown are for the Exit End of each Element:',\n",
       " '#Index  name          key                       s       l    beta     phi    eta   orbit    beta     phi    eta   orbit   Track_State',\n",
       " '#                                                               a       a      a  x [mm]       b       b      b  y [mm]',\n",
       " '     1  IP_L0         Marker                0.000   0.000    0.95   0.000  -0.00  -0.017    0.02   0.000   0.00   0.001   Alive',\n",
       " '     2  CLEO_SOL#3    Solenoid              0.622   0.622    1.34   0.582  -0.02   1.470   21.81   1.532   0.00   0.041   Alive',\n",
       " '     3  DET_00W       Marker                0.622   0.000    1.34   0.582  -0.02   1.470   21.81   1.532   0.00   0.041   Alive',\n",
       " '     4  CLEO_SOL#4    Solenoid              0.638   0.016    1.37   0.593  -0.02   1.507   22.92   1.533   0.00   0.043   Alive',\n",
       " '     5  Q00W\\\\CLEO_SOL Sol_Quad              1.755   1.117    7.73   1.007  -0.09   5.505   88.01   1.554  -0.00   0.486   Alive',\n",
       " '     6  Q00W#1        Quadrupole            2.163   0.408   15.96   1.045  -0.13   8.150   76.38   1.559  -0.00   0.717   Alive',\n",
       " '     7  D003          Drift                 2.493   0.331   27.03   1.061  -0.17  10.704   60.26   1.564  -0.00   0.931   Alive',\n",
       " '     8  DET_01W       Marker                2.493   0.000   27.03   1.061  -0.17  10.704   60.26   1.564  -0.00   0.931   Alive',\n",
       " '     9  D004          Drift                 2.924   0.431   45.79   1.073  -0.22  14.029   42.13   1.572  -0.00   1.209   Alive',\n",
       " '    10  Q01W          Quadrupole            3.874   0.950   66.94   1.089  -0.26  16.849   28.95   1.602  -0.00   1.212   Alive',\n",
       " '#Index  name          key                       s       l    beta     phi    eta   orbit    beta     phi    eta   orbit   Track_State',\n",
       " '#                                                               a       a      a  x [mm]       b       b      b  y [mm]',\n",
       " '# Values shown are for the Exit End of each Element:']"
      ]
     },
     "execution_count": 3,
     "metadata": {},
     "output_type": "execute_result"
    }
   ],
   "source": [
    "# Tao command\n",
    "tao.cmd('sho lat 1:10')"
   ]
  },
  {
   "cell_type": "markdown",
   "metadata": {},
   "source": [
    "# Jupyter magic %%tao"
   ]
  },
  {
   "cell_type": "markdown",
   "metadata": {},
   "source": [
    "This is an alternative way to send commands to Tao directly in the jupyter notebook, using the %%tao magic. Multiple lines can be executed."
   ]
  },
  {
   "cell_type": "code",
   "execution_count": 4,
   "metadata": {},
   "outputs": [
    {
     "name": "stdout",
     "output_type": "stream",
     "text": [
      "-------------------------\n",
      "Tao> sho lat 1:10\n",
      "# Values shown are for the Exit End of each Element:\n",
      "#Index  name          key                       s       l    beta     phi    eta   orbit    beta     phi    eta   orbit   Track_State\n",
      "#                                                               a       a      a  x [mm]       b       b      b  y [mm]\n",
      "     1  IP_L0         Marker                0.000   0.000    0.95   0.000  -0.00  -0.017    0.02   0.000   0.00   0.001   Alive\n",
      "     2  CLEO_SOL#3    Solenoid              0.622   0.622    1.34   0.582  -0.02   1.470   21.81   1.532   0.00   0.041   Alive\n",
      "     3  DET_00W       Marker                0.622   0.000    1.34   0.582  -0.02   1.470   21.81   1.532   0.00   0.041   Alive\n",
      "     4  CLEO_SOL#4    Solenoid              0.638   0.016    1.37   0.593  -0.02   1.507   22.92   1.533   0.00   0.043   Alive\n",
      "     5  Q00W\\CLEO_SOL Sol_Quad              1.755   1.117    7.73   1.007  -0.09   5.505   88.01   1.554  -0.00   0.486   Alive\n",
      "     6  Q00W#1        Quadrupole            2.163   0.408   15.96   1.045  -0.13   8.150   76.38   1.559  -0.00   0.717   Alive\n",
      "     7  D003          Drift                 2.493   0.331   27.03   1.061  -0.17  10.704   60.26   1.564  -0.00   0.931   Alive\n",
      "     8  DET_01W       Marker                2.493   0.000   27.03   1.061  -0.17  10.704   60.26   1.564  -0.00   0.931   Alive\n",
      "     9  D004          Drift                 2.924   0.431   45.79   1.073  -0.22  14.029   42.13   1.572  -0.00   1.209   Alive\n",
      "    10  Q01W          Quadrupole            3.874   0.950   66.94   1.089  -0.26  16.849   28.95   1.602  -0.00   1.212   Alive\n",
      "#Index  name          key                       s       l    beta     phi    eta   orbit    beta     phi    eta   orbit   Track_State\n",
      "#                                                               a       a      a  x [mm]       b       b      b  y [mm]\n",
      "# Values shown are for the Exit End of each Element:\n",
      "-------------------------\n",
      "Tao> sho var\n",
      "       Name                                      Using for Optimization\n",
      "    quad_k1[0:120]                               0:106\n",
      "    h_steer[0:120]                               1:106\n",
      "    v_steer[0:120]                               1:98\n"
     ]
    }
   ],
   "source": [
    "%%tao\n",
    "sho lat 1:10\n",
    "sho var"
   ]
  },
  {
   "cell_type": "markdown",
   "metadata": {},
   "source": [
    "# Tao python commands"
   ]
  },
  {
   "cell_type": "markdown",
   "metadata": {},
   "source": [
    "Tao has a special set of commands to send formtted data back for parsing in python. "
   ]
  },
  {
   "cell_type": "code",
   "execution_count": 5,
   "metadata": {},
   "outputs": [
    {
     "data": {
      "text/plain": [
       "['0;BEGINNING',\n",
       " '1;IP_L0',\n",
       " '2;CLEO_SOL#3',\n",
       " '3;DET_00W',\n",
       " '4;CLEO_SOL#4',\n",
       " '5;Q00W\\\\CLEO_SOL',\n",
       " '6;Q00W#1',\n",
       " '7;D003',\n",
       " '8;DET_01W',\n",
       " '9;D004']"
      ]
     },
     "execution_count": 5,
     "metadata": {},
     "output_type": "execute_result"
    }
   ],
   "source": [
    "python_dat = tao.cmd('python lat_ele_list 1@0')\n",
    "python_dat[0:10]"
   ]
  },
  {
   "cell_type": "code",
   "execution_count": 6,
   "metadata": {},
   "outputs": [
    {
     "data": {
      "text/plain": [
       "869"
      ]
     },
     "execution_count": 6,
     "metadata": {},
     "output_type": "execute_result"
    }
   ],
   "source": [
    "# Get index of end element, using a utility function to parse that data\n",
    "ixlist = util.parse_tao_lat_ele_list(python_dat)\n",
    "endix = ixlist['END']\n",
    "endix"
   ]
  },
  {
   "cell_type": "code",
   "execution_count": 7,
   "metadata": {},
   "outputs": [
    {
     "data": {
      "text/plain": [
       "{'name': 'END',\n",
       " 'type': '',\n",
       " 'alias': '',\n",
       " 'component_name': '',\n",
       " 'gamma_c': 1.0000226002695305,\n",
       " 's': 768.4264214161683,\n",
       " 'ref_time': 2.563194651823492e-06,\n",
       " 'key': 'Marker',\n",
       " 'sub_key': 'GARBAGE!',\n",
       " 'ix_ele': 869,\n",
       " 'ix_branch': 0,\n",
       " 'slave_status': 'Free',\n",
       " 'n_slave': 0,\n",
       " 'n_slave_field': 0,\n",
       " 'lord_status': 'Not_a_Lord',\n",
       " 'n_lord': 0,\n",
       " 'n_lord_field': 0,\n",
       " 'mat6_calc_method': 'Bmad_Standard',\n",
       " 'tracking_method': 'Bmad_Standard',\n",
       " 'spin_tracking_method': 'Tracking',\n",
       " 'ptc_integration_type': 'Matrix_Kick',\n",
       " 'field_calc': 'Bmad_Standard',\n",
       " 'aperture_at': 'Exit_End',\n",
       " 'aperture_type': 'Rectangular',\n",
       " 'orientation': 1,\n",
       " 'symplectify': True,\n",
       " 'mode_flip': True,\n",
       " 'multipoles_on': True,\n",
       " 'scale_multipoles': True,\n",
       " 'taylor_map_includes_offsets': True,\n",
       " 'field_master': True,\n",
       " 'is_on': True,\n",
       " 'csr_calc_on': True,\n",
       " 'offset_moves_aperture': True}"
      ]
     },
     "execution_count": 7,
     "metadata": {},
     "output_type": "execute_result"
    }
   ],
   "source": [
    "# Ele data\n",
    "edat = util.parse_tao_python_data(tao.cmd('python lat_ele1 1@0>>'+str(endix)+'|model general'))\n",
    "edat"
   ]
  },
  {
   "cell_type": "code",
   "execution_count": null,
   "metadata": {},
   "outputs": [],
   "source": []
  }
 ],
 "metadata": {
  "kernelspec": {
   "display_name": "Python 3",
   "language": "python",
   "name": "python3"
  },
  "language_info": {
   "codemirror_mode": {
    "name": "ipython",
    "version": 3
   },
   "file_extension": ".py",
   "mimetype": "text/x-python",
   "name": "python",
   "nbconvert_exporter": "python",
   "pygments_lexer": "ipython3",
   "version": "3.6.6"
  }
 },
 "nbformat": 4,
 "nbformat_minor": 2
}
