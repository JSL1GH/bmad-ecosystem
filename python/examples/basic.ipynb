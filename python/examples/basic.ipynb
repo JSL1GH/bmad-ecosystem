{
 "cells": [
  {
   "cell_type": "code",
   "execution_count": 1,
   "metadata": {},
   "outputs": [],
   "source": [
    "from pytao import Tao\n",
    "import os"
   ]
  },
  {
   "cell_type": "code",
   "execution_count": 2,
   "metadata": {},
   "outputs": [
    {
     "name": "stdout",
     "output_type": "stream",
     "text": [
      "Bmad installation:  /Users/chrisonian/Code/bmad_svn/\n"
     ]
    }
   ],
   "source": [
    "# Point to local installation\n",
    "BASE_DIR=os.environ['ACC_ROOT_DIR'] \n",
    "print('Bmad installation: ', BASE_DIR)\n",
    "\n",
    "# Make tao instance\n",
    "tao=Tao()   "
   ]
  },
  {
   "cell_type": "code",
   "execution_count": 3,
   "metadata": {},
   "outputs": [
    {
     "data": {
      "text/plain": [
       "['[INFO] tao_init:',\n",
       " '    Note: global%rf_on = False  -->  RFCavities will be turned off in lattices']"
      ]
     },
     "execution_count": 3,
     "metadata": {},
     "output_type": "execute_result"
    }
   ],
   "source": [
    "# Initialize\n",
    "# Pick an example init\n",
    "init = BASE_DIR+'tao/examples/cesr/tao.init'\n",
    "initargs='-noplot -init '+init\n",
    "tao.init(initargs)  "
   ]
  },
  {
   "cell_type": "code",
   "execution_count": 4,
   "metadata": {},
   "outputs": [
    {
     "name": "stdout",
     "output_type": "stream",
     "text": [
      "-------------------------\n",
      "Tao> sho lat 1:10\n",
      "# Values shown are for the Exit End of each Element:\n",
      "#Index  name          key                       s       l    beta     phi    eta   orbit    beta     phi    eta   orbit   Track_State\n",
      "#                                                               a       a      a  x [mm]       b       b      b  y [mm]\n",
      "     1  IP_L0         Marker                0.000   0.000    0.95   0.000  -0.00  -0.017    0.02   0.000   0.00   0.001   Alive\n",
      "     2  CLEO_SOL#3    Solenoid              0.622   0.622    1.34   0.582  -0.02   1.470   21.81   1.532   0.00   0.041   Alive\n",
      "     3  DET_00W       Marker                0.622   0.000    1.34   0.582  -0.02   1.470   21.81   1.532   0.00   0.041   Alive\n",
      "     4  CLEO_SOL#4    Solenoid              0.638   0.016    1.37   0.593  -0.02   1.507   22.92   1.533   0.00   0.043   Alive\n",
      "     5  Q00W\\CLEO_SOL Sol_Quad              1.755   1.117    7.73   1.007  -0.09   5.505   88.01   1.554  -0.00   0.486   Alive\n",
      "     6  Q00W#1        Quadrupole            2.163   0.408   15.96   1.045  -0.13   8.150   76.38   1.559  -0.00   0.717   Alive\n",
      "     7  D003          Drift                 2.493   0.331   27.03   1.061  -0.17  10.704   60.26   1.564  -0.00   0.931   Alive\n",
      "     8  DET_01W       Marker                2.493   0.000   27.03   1.061  -0.17  10.704   60.26   1.564  -0.00   0.931   Alive\n",
      "     9  D004          Drift                 2.924   0.431   45.79   1.073  -0.22  14.029   42.13   1.572  -0.00   1.209   Alive\n",
      "    10  Q01W          Quadrupole            3.874   0.950   66.94   1.089  -0.26  16.849   28.95   1.602  -0.00   1.212   Alive\n",
      "#Index  name          key                       s       l    beta     phi    eta   orbit    beta     phi    eta   orbit   Track_State\n",
      "#                                                               a       a      a  x [mm]       b       b      b  y [mm]\n",
      "# Values shown are for the Exit End of each Element:\n"
     ]
    }
   ],
   "source": [
    "%%tao\n",
    "sho lat 1:10"
   ]
  },
  {
   "cell_type": "code",
   "execution_count": null,
   "metadata": {},
   "outputs": [],
   "source": []
  }
 ],
 "metadata": {
  "kernelspec": {
   "display_name": "Python 3",
   "language": "python",
   "name": "python3"
  },
  "language_info": {
   "codemirror_mode": {
    "name": "ipython",
    "version": 3
   },
   "file_extension": ".py",
   "mimetype": "text/x-python",
   "name": "python",
   "nbconvert_exporter": "python",
   "pygments_lexer": "ipython3",
   "version": "3.6.6"
  }
 },
 "nbformat": 4,
 "nbformat_minor": 2
}
