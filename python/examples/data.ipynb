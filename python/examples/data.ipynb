{
 "cells": [
  {
   "cell_type": "markdown",
   "metadata": {},
   "source": [
    "# Data command examples"
   ]
  },
  {
   "cell_type": "code",
   "execution_count": null,
   "metadata": {},
   "outputs": [],
   "source": [
    "# Useful for debugging\n",
    "%load_ext autoreload\n",
    "%autoreload 2"
   ]
  },
  {
   "cell_type": "code",
   "execution_count": null,
   "metadata": {},
   "outputs": [],
   "source": [
    "from pytao import Tao\n",
    "from pytao.util import data\n",
    "import os"
   ]
  },
  {
   "cell_type": "markdown",
   "metadata": {},
   "source": [
    "## Inititialize Tao"
   ]
  },
  {
   "cell_type": "code",
   "execution_count": null,
   "metadata": {},
   "outputs": [],
   "source": [
    "# Point to local installation\n",
    "BASE_DIR=os.environ['ACC_ROOT_DIR'] \n",
    "print('Bmad installation: ', BASE_DIR)\n",
    "\n",
    "\n",
    "# Pick an example init\n",
    "root = BASE_DIR+'tao/examples/cesr/'\n",
    "init = '-init '+root+'tao.init -noplot'\n",
    "# Make tao instance\n",
    "tao=Tao(init)   "
   ]
  },
  {
   "cell_type": "markdown",
   "metadata": {},
   "source": [
    "# Data creation\n",
    "---"
   ]
  },
  {
   "cell_type": "markdown",
   "metadata": {},
   "source": [
    "## python data_d2_create "
   ]
  },
  {
   "cell_type": "raw",
   "metadata": {},
   "source": [
    "!----------------------------------------------------------------------\n",
    "! Create a d2 data structure along with associated d1 and data arrays.\n",
    "!\n",
    "! Command syntax:\n",
    "!   python data_d2_create {d2_name}^^{n_d1_data}^^{d_data_arrays_name_min_max}\n",
    "! {d2_name} should be of the form {ix_uni}@{d2_datum_name}\n",
    "! {n_d1_data} is the number of associated d1 data structures.\n",
    "! {d_data_arrays_name_min_max} has the form\n",
    "!   {name1}^^{lower_bound1}^^{upper_bound1}^^....^^{nameN}^^{lower_boundN}^^{upper_boundN}\n",
    "! where {name} is the data array name and {lower_bound} and {upper_bound} are the bounds of the array.\n",
    "!\n",
    "! Example:\n",
    "!   python data_d2_create 2@orbit^^2^^x^^0^^45^^y^^1^^47\n",
    "! This example creates a d2 data structure called \"orbit\" with two d1 structures called \"x\" and \"y\".\n",
    "! The \"x\" d1 structure has an associated data array with indexes in the range [0, 45].\n",
    "! The \"y\" d1 structure has an associated data arrray with indexes in the range [1, 47].\n",
    "!\n",
    "! Use the \"set data\" command to set a created datum parameters.\n",
    "! Note: When setting multiple data parameters, temporarily toggle s%global%lattice_calc_on to False\n",
    "!   (\"set global lattice_calc_on = F\") to prevent Tao trying to evaluate the partially created datum and\n",
    "!   generating unwanted error messages."
   ]
  },
  {
   "cell_type": "code",
   "execution_count": null,
   "metadata": {},
   "outputs": [],
   "source": [
    "cmd='python data_d2_create X^^2^^A^^1^^2^^B^^1^^4'\n",
    "tao.cmd(cmd)\n",
    "tao.cmd('show data X')"
   ]
  },
  {
   "cell_type": "code",
   "execution_count": null,
   "metadata": {},
   "outputs": [],
   "source": [
    "# Python function\n",
    "?data.create_d2_data_cmd"
   ]
  },
  {
   "cell_type": "code",
   "execution_count": null,
   "metadata": {},
   "outputs": [],
   "source": [
    "# Usage\n",
    "cmd = data.create_d2_data_cmd('X', ['A', 'B'], [2,4])\n",
    "cmd"
   ]
  },
  {
   "cell_type": "markdown",
   "metadata": {},
   "source": [
    "## python datum_create"
   ]
  },
  {
   "cell_type": "raw",
   "metadata": {},
   "source": [
    "!----------------------------------------------------------------------\n",
    "! Create a datum.\n",
    "! Command syntax:\n",
    "!   python datum_create {datum_name}^^{data_type}^^{ele_ref_name}^^{ele_start_name}^^{ele_name}^^{merit_type}^^\n",
    "!                         {meas}^^{good_meas}^^{ref}^^{good_ref}^^{weight}^^{good_user}^^{data_source}^^{eval_point}^^\n",
    "!                         {s_offset}^^{ix_bunch}^^{invalid_value}^^{spin_n0_x}^^{spin_n0_y}^^{spin_n0_z}\n",
    "!\n",
    "! Note: Use the \"data_d2_create\" first to create a d2 structure with associated d1 arrays.\n",
    "! Note: After creating all your datums, use the \"data_set_design_value\" routine to set the design (and model) values."
   ]
  },
  {
   "cell_type": "code",
   "execution_count": null,
   "metadata": {},
   "outputs": [],
   "source": [
    "# Python function\n",
    "?data.create_datum_cmd"
   ]
  },
  {
   "cell_type": "code",
   "execution_count": null,
   "metadata": {},
   "outputs": [],
   "source": [
    "cmd=data.create_datum_cmd('X.A[1]', meas=1, good_meas=True)    \n",
    "cmd"
   ]
  },
  {
   "cell_type": "markdown",
   "metadata": {},
   "source": [
    "## python data_set_design_value"
   ]
  },
  {
   "cell_type": "raw",
   "metadata": {},
   "source": [
    "!----------------------------------------------------------------------\n",
    "! Set the design (and base & model) values for all datums.\n",
    "! Command syntax:\n",
    "!   python data_set_design_value\n",
    "!\n",
    "! Note: Use the \"data_d2_create\" and \"datum_create\" first to create datums."
   ]
  },
  {
   "cell_type": "code",
   "execution_count": null,
   "metadata": {},
   "outputs": [],
   "source": [
    "tao.cmd('python data_set_design_value')"
   ]
  },
  {
   "cell_type": "code",
   "execution_count": null,
   "metadata": {},
   "outputs": [],
   "source": [
    "\"\"\"\n",
    "\n",
    "!   python var_create {var_name}^^{ele_name}^^{attribute}^^{universes}^^{weight}^^{step}^^{low_lim}^^{high_lim}^^\n",
    "!                                                                     {merit_type}^^{good_user}^^{key_bound}^^{key_delta}\n",
    "\n",
    "\"\"\""
   ]
  },
  {
   "cell_type": "code",
   "execution_count": null,
   "metadata": {},
   "outputs": [],
   "source": [
    "def create_variable_cmd(\n",
    "    var_name='',\n",
    "    ele_name='',\n",
    "    attribute='',\n",
    "    universes='1',\n",
    "    weight=0,\n",
    "    step=0,\n",
    "    low_lim=0,\n",
    "    high_lim=0,\n",
    "    merit_type='target',\n",
    "    good_user=True,\n",
    "    key_bound=False,\n",
    "    key_delta=1\n",
    "):\n",
    "    \"\"\"\n",
    "    \n",
    "    \n",
    "    Create a single variable\n",
    "    Command syntax:\n",
    "    python var_create {var_name}^^{ele_name}^^{attribute}^^{universes}^^{weight}^^{step}^^{low_lim}^^{high_lim}^^\n",
    "                                                                         {merit_type}^^{good_user}^^{key_bound}^^{key_delta}\n",
    "    \n",
    "    \"\"\"\n",
    "    \n",
    "    \n",
    "    # Split for readablity \n",
    "    cmd = 'python var_create '\\\n",
    "        f'{var_name}^^{ele_name}^^{attribute}^^{universes}'\\\n",
    "        f'^^{weight}^^{step}^^{low_lim}^^{high_lim}'\\\n",
    "        f'^^{merit_type}^^{good_user}^^{key_bound}^^{key_delta}'\n",
    "    return cmd\n",
    "\n",
    "CMD = create_variable_cmd(var_name='xyz', ele_name='D003', attribute='L')\n",
    "tao.cmd(CMD)"
   ]
  },
  {
   "cell_type": "code",
   "execution_count": null,
   "metadata": {},
   "outputs": [],
   "source": [
    "%%tao\n",
    "sho lat"
   ]
  },
  {
   "cell_type": "code",
   "execution_count": null,
   "metadata": {},
   "outputs": [],
   "source": []
  }
 ],
 "metadata": {
  "kernelspec": {
   "display_name": "Python 3",
   "language": "python",
   "name": "python3"
  },
  "language_info": {
   "codemirror_mode": {
    "name": "ipython",
    "version": 3
   },
   "file_extension": ".py",
   "mimetype": "text/x-python",
   "name": "python",
   "nbconvert_exporter": "python",
   "pygments_lexer": "ipython3",
   "version": "3.7.6"
  }
 },
 "nbformat": 4,
 "nbformat_minor": 4
}
